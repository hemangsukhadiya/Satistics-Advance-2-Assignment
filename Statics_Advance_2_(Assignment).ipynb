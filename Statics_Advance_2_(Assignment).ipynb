{
  "nbformat": 4,
  "nbformat_minor": 0,
  "metadata": {
    "colab": {
      "provenance": []
    },
    "kernelspec": {
      "name": "python3",
      "display_name": "Python 3"
    },
    "language_info": {
      "name": "python"
    }
  },
  "cells": [
    {
      "cell_type": "markdown",
      "source": [
        "1.  What is hypothesis testing in statistics?\n",
        "\n",
        "Ans: Hypothesis method compares two opposite statements about a population and uses sample data to decide which one is more likely to be correct.To test this assumption we first take a sample from the population and analyze it and use the results of the analysis to decide if the claim is valid or not.\n",
        "\n",
        "Example:\n",
        "        \n",
        "        Suppose a company claims that its website gets an average of 50 user visits per day.\n",
        "        To verify this we use hypothesis testing to analyze past website traffic data and determine if the claim is accurate.\n",
        "        This helps us decide whether the observed data supports the company’s claim or if there is a significant difference."
      ],
      "metadata": {
        "id": "9Tih_QibkKPG"
      }
    },
    {
      "cell_type": "markdown",
      "source": [
        "2.  What is the null hypothesis, and how does it differ from the alternative hypothesis?\n",
        "\n",
        "Ans: Null hypothesis suggests that there is no relationship between the two variables. Null hypothesis is also exactly the opposite of the alternative hypothesis. Null hypothesis is generally what researchers or scientists try to disprove and if the null hypothesis gets accepted then we have to make changes in our opinion i.e. we have to make changes in our original opinion or statement in order to match null hypothesis. Null hypothesis is represented as H0. If my alternative hypothesis is that 55% of boys in my town are taller than girls then my alternative hypothesis will be that 55% of boys in my town are not taller than girls.\n",
        "\n",
        "While,\n",
        "*Alternative hypothesis* is a method for reaching a conclusion and making inferences and judgements about certain facts or a statement. This is done on the basis of the data which is available. Usually, the statement which we check regarding the null hypothesis is commonly known as the alternative hypothesis. Most of the times alternative hypothesis is exactly the opposite of the null hypothesis. This is what generally researchers or scientists try to approve. Alternative hypothesis is represented as Ha or H1. If my null hypothesis is that 55% of boys in my town are not taller than girls then my alternative hypothesis will be that 55% of boys in my town are taller than girls."
      ],
      "metadata": {
        "id": "taz2tf0skKda"
      }
    },
    {
      "cell_type": "markdown",
      "source": [
        "3.  What is the significance level in hypothesis testing, and why is it important?\n",
        "\n",
        "Ans: In hypothesis testing, the significance level (often denoted as α) is the probability of rejecting the null hypothesis when it's actually true, and it's crucial because it sets the threshold for determining statistical significance, influencing whether a result is considered meaningful or due to random chance.\n",
        "\n",
        "Why it is important:\n",
        "\n",
        "        1. *Determines Statistical Significance*: Researchers use the p-value, which is the probability of obtaining the observed results (or more extreme results) if the null hypothesis were true, to compare with the significance level. If the p-value is less than or equal to α, the result is considered statistically significant, and the null hypothesis is rejected.\n",
        "        2. *Sets the Threshold for Decision-Making*: The significance level acts as a threshold, guiding researchers in deciding whether to accept or reject the null hypothesis based on the evidence from the data.\n",
        "        3. *Controls for False Positives*: By setting a significance level, researchers aim to minimize the risk of falsely concluding that a treatment or intervention has an effect when it actually doesn't."
      ],
      "metadata": {
        "id": "P-FtYSzckKnd"
      }
    },
    {
      "cell_type": "markdown",
      "source": [
        "4.  What does a P-value represent in hypothesis testing?\n",
        "\n",
        "Ans: A p-value represents the probability of obtaining results as extreme as, or more extreme than, the observed results, assuming the null hypothesis is true.\n",
        "\n",
        "- Null Hypothesis:\n",
        "      This is the initial assumption that there is no effect or relationship in the population being studied.\n",
        "- P-value Calculation:\n",
        "      The p-value is calculated based on the observed data and the assumption that the null hypothesis is true.\n",
        "- Interpreting P-value:\n",
        "      - A small p-value (typically ≤ 0.05) suggests that the observed results are unlikely to have occurred by chance if the null hypothesis is true, leading to rejection of the null hypothesis.\n",
        "      - A large p-value (typically > 0.05) suggests that the observed results are likely to have occurred by chance, and the null hypothesis is not rejected."
      ],
      "metadata": {
        "id": "HUqd5bjIkKw-"
      }
    },
    {
      "cell_type": "markdown",
      "source": [
        "5.  How do you interpret the P-value in hypothesis testing\n",
        "\n",
        "Ans:\n",
        "- Small p-value (e.g., ≤ 0.05):\n",
        "    \n",
        "      If the p-value is small, it means the observed data is unlikely to have occurred if the null hypothesis were true.\n",
        "      This provides evidence against the null hypothesis, suggesting that the null hypothesis is likely false.\n",
        "- Large p-value (e.g., > 0.05):\n",
        "\n",
        "      If the p-value is large, it means the observed data is likely to have occurred if the null hypothesis were true.\n",
        "      This provides weak evidence against the null hypothesis, and you would fail to reject the null hypothesis."
      ],
      "metadata": {
        "id": "7uhVQHSmkK5n"
      }
    },
    {
      "cell_type": "markdown",
      "source": [
        "6. What are Type 1 and Type 2 errors in hypothesis testing?\n",
        "\n",
        "Ans:\n",
        "1. Type 1 error\n",
        "        - Rejecting the null hypothesis when it's actually true\n",
        "        - Also known as a false positive\n",
        "        - For example, thinking a new frying method is better than the traditional method when it's not\n",
        "2. Type 2 error\n",
        "        - Failing to reject the null hypothesis when it's actually false\n",
        "        - Also known as a false negative\n",
        "        - For example, failing to detect a bug in a new software feature"
      ],
      "metadata": {
        "id": "dP79iKeAkLAx"
      }
    },
    {
      "cell_type": "markdown",
      "source": [
        "7. What is the difference between a one-tailed and a two-tailed test in hypothesis testing*?\n",
        "\n",
        "Ans:\n",
        "\n",
        "1. One-Tailed Test:\n",
        "- Also known as a directional test.\n",
        "- The alternative hypothesis specifies a specific direction (e.g., the mean of group A is greater than the mean of group B).\n",
        "- The critical region (where the null hypothesis is rejected) is located in only one tail of the distribution.\n",
        "- More powerful for detecting effects in the predicted direction but less sensitive to effects in the opposite direction.\n",
        "- Example: Testing if a new drug increases blood pressure, but not if it decreases it.\n",
        "\n",
        "2. Two-Tailed Test:\n",
        "- Also known as a non-directional test.\n",
        "- The alternative hypothesis doesn't specify a direction (e.g., the mean of group A is different from the mean of group B).\n",
        "- The critical region is split between both tails of the distribution.\n",
        "- More conservative, detecting effects in either direction, but with potentially less power than a one-tailed test.\n",
        "- Example: Testing if a new drug has any effect on blood pressure, without specifying whether it increases or decreases it."
      ],
      "metadata": {
        "id": "uTbZ1KqhkLOu"
      }
    },
    {
      "cell_type": "markdown",
      "source": [
        "8.  What is the Z-test, and when is it used in hypothesis testing?\n",
        "\n",
        "Ans:  A z-test is a statistical test used in hypothesis testing to determine if there's a significant difference between a sample mean and a population mean, or between two population means, when the population standard deviation is known, and the sample size is large (typically greater than 30)"
      ],
      "metadata": {
        "id": "bg44Y1KTkLWB"
      }
    },
    {
      "cell_type": "markdown",
      "source": [
        "9.  How do you calculate the Z-score, and what does it represent in hypothesis testing?\n",
        "\n",
        "Ans:\n",
        "\n",
        "- To calculate a z-score, you subtract the population mean from a data point and divide by the population standard deviation (z = (x - μ) / σ). In hypothesis testing, a z-score indicates how many standard deviations a data point or sample mean is from the population mean, helping determine statistical significance.\n",
        "\n",
        "1. Understanding Z-scores\n",
        "What they are:\n",
        "- Z-scores (also known as standard scores) measure how far a specific data point is from the mean of a distribution, expressed in terms of standard deviations.\n",
        "- Formula:\n",
        "        z = (x - μ) / σ\n",
        "        where:\n",
        "        x = the raw score or data point\n",
        "        μ (mu) = the population mean\n",
        "        σ (sigma) = the population standard deviation\n",
        "2. Interpreting Z-scores:\n",
        "- A positive z-score means the data point is above the mean.\n",
        "- A negative z-score means the data point is below the mean.\n",
        "- A z-score of 0 means the data point is exactly at the mean.\n",
        "- The magnitude of the z-score indicates how many standard deviations away from the mean the data point is."
      ],
      "metadata": {
        "id": "_SgDVzUnkLdc"
      }
    },
    {
      "cell_type": "markdown",
      "source": [
        "10. What is the T-distribution, and when should it be used instead of the normal distribution?\n",
        "\n",
        "Ans: The t-distribution is a probability distribution similar to the normal distribution (bell-shaped, symmetric, mean of zero) but with heavier tails.\n",
        "It's defined by its degrees of freedom, which are related to the sample size.\n",
        "As the degrees of freedom (and thus sample size) increase, the t-distribution approaches the normal distribution.\n",
        "\n",
        "- When to use the t-distribution instead of the normal distribution?\n",
        "    \n",
        "    - Small sample size:  \n",
        "              When the sample size is small (typically less than 30), the t-distribution is preferred because\n",
        "              it accounts for the increased uncertainty in estimating the population standard deviation\n",
        "              from a small sample.\n",
        "    - Unknown population standard deviation:\n",
        "              If the population standard deviation is unknown, and you're using the sample standard deviation\n",
        "              as an estimate, the t-distribution is the appropriate choice."
      ],
      "metadata": {
        "id": "yoyIUgtjkLkm"
      }
    },
    {
      "cell_type": "markdown",
      "source": [
        "11. What is the difference between a Z-test and a T-test?\n",
        "\n",
        "Ans:\n",
        "- Z-test:\n",
        "      - Sample Size: Large (n > 30)\n",
        "      - Population Standard Deviation: Known\n",
        "      - Distribution: Assumes data follows a normal distribution\n",
        "      - Purpose: Used to compare the mean of a sample to a known population mean or to compare the means of two populations when the population standard deviation is known.\n",
        "- T-test:\n",
        "      - Sample Size: Small (n < 30) or when population standard deviation is unknown\n",
        "      - Population Standard Deviation: Unknown (estimated from the sample)\n",
        "      - Distribution: Uses the Student's t-distribution\n",
        "      - Purpose: Used to compare the means of two groups (independent or paired) or to compare the mean of a sample to a hypothesized value when the population standard deviation is unknown."
      ],
      "metadata": {
        "id": "2fnpxj60kLrn"
      }
    },
    {
      "cell_type": "markdown",
      "source": [
        "12.  What is the T-test, and how is it used in hypothesis testing?\n",
        "\n",
        "Ans:\n",
        "\n",
        "- Purpose: The t-test is used to determine if there's a statistically significant difference between the means of two groups or between a sample mean and a known value.\n",
        "- Hypothesis Testing: It's a core tool in hypothesis testing, where you formulate a null hypothesis (no difference between groups) and an alternative hypothesis (a difference exists).\n",
        "- How it works:\n",
        "      - State Hypotheses: Formulate a null hypothesis (no difference) and an alternative hypothesis (a difference exists).\n",
        "      - Calculate the t-statistic: This measures the difference between the means, taking into account the variability within the groups.\n",
        "      - Determine Degrees of Freedom: This value depends on the sample sizes of the groups.\n",
        "      - Find the p-value: This is the probability of observing the obtained results (or more extreme results) if the null hypothesis is true.\n",
        "      - Compare p-value to Significance Level: If the p-value is less than the significance level (e.g., 0.05), you reject the null hypothesis, concluding that there is a statistically significant differenc"
      ],
      "metadata": {
        "id": "ak28O5n8kLzH"
      }
    },
    {
      "cell_type": "markdown",
      "source": [
        "13.  What is the relationship between Z-test and T-test in hypothesis testing?\n",
        "\n",
        "Ans:  Z-tests and t-tests are both used in hypothesis testing to compare means, but they differ in the assumptions they make about the population standard deviation and sample size. Z-tests are used when the population standard deviation is known or when the sample size is large (n > 30), while t-tests are used when the population standard deviation is unknown or the sample size is small (n < 30)."
      ],
      "metadata": {
        "id": "cyZxhwBQkL6B"
      }
    },
    {
      "cell_type": "markdown",
      "source": [
        "14.  What is a confidence interval, and how is it used to interpret statistical results?\n",
        "\n",
        "Ans:  A confidence interval is a range of values that is likely to contain the true value of an unknown population parameter, with a specified level of confidence, such as 95%. It helps interpret statistical results by providing a measure of the uncertainty associated with a sample estimate.\n",
        "\n",
        "Interpretation:\n",
        "- Range of Plausible Values: The interval provides a range of plausible values for the population parameter, rather than just a single point estimate.\n",
        "- Uncertainty: The width of the interval reflects the uncertainty in the estimate; a wider interval means more uncertainty.\n",
        "- Statistical Significance: Confidence intervals can be used to assess statistical significance. If the interval for a mean difference or effect size includes zero (or one in the case of ratios), the result is not considered statistically significant at the chosen confidence level."
      ],
      "metadata": {
        "id": "rkUbHJkVkMBd"
      }
    },
    {
      "cell_type": "markdown",
      "source": [
        "15. What is the margin of error, and how does it affect the confidence interval?\n",
        "\n",
        "Ans:  The margin of error is a statistical measure that quantifies the uncertainty or potential variation in survey or experiment results, while the confidence interval is a range within which the true population value is likely to fall, with a specified level of confidence. The margin of error is half the width of the confidence interval, meaning a larger margin of error corresponds to a wider confidence interval, and vice versa."
      ],
      "metadata": {
        "id": "QeKTkYirkMIu"
      }
    },
    {
      "cell_type": "markdown",
      "source": [
        "16. How is Bayes' Theorem used in statistics, and what is its significance?\n",
        "\n",
        "Ans:\n",
        "\n",
        "Conditional Probability:\n",
        "- At its core, Bayes' Theorem deals with conditional probabilities, which are probabilities that take into account the occurrence of another event.\n",
        "- Formula:\n",
        "        - The theorem is often expressed as: P(A|B) = [P(B|A) * P(A)] / P(B).\n",
        "              -P(A|B): The probability of event A happening, given that event B has already happened (posterior probability).\n",
        "              - P(B|A): The probability of event B happening, given that event A has already happened (likelihood).\n",
        "              - P(A): The prior probability of event A (the probability of A before considering B).\n",
        "              - P(B): The probability of event B (evidence)."
      ],
      "metadata": {
        "id": "dNNlPn82kMQB"
      }
    },
    {
      "cell_type": "markdown",
      "source": [
        "17. What is the Chi-square distribution, and when is it used*?\n",
        "\n",
        "Ans:\n",
        "\n",
        "The Chi-square distribution is a continuous probability distribution used in hypothesis testing, particularly for analyzing categorical data, with the most common applications being the chi-square goodness of fit test and the chi-square test of independence.\n",
        "\n",
        "When is it used?\n",
        "- Chi-Square Goodness of Fit Test:\n",
        "This test determines how well an observed distribution of data fits a theoretical distribution. For example, you might use it to see if a coin is fair by comparing the observed number of heads and tails to the expected 50/50 split.\n",
        "- Chi-Square Test of Independence:\n",
        "This test determines if there's a relationship between two categorical variables. For example, you could use it to see if there's a relationship between gender and preference for a certain type of movie.\n",
        "- Other Statistical Tests:\n",
        "The chi-square distribution is also used in other statistical tests, such as Friedman's analysis of variance by ranks, and in constructing confidence intervals for estimating population standard deviations.\n",
        "- Machine Learning:\n",
        "Chi-square tests can be used in machine learning for feature selection (identifying which features are most important for predicting an outcome) and evaluating classification models.\n",
        "- Genetics:\n",
        "Chi-square goodness of fit tests are often used in genetics to check if two genes are linked (i.e., if the assortment is independent).\n"
      ],
      "metadata": {
        "id": "8CfQFgt8kMW8"
      }
    },
    {
      "cell_type": "markdown",
      "source": [
        "18. What is the Chi-square goodness of fit test, and how is it applied?\n",
        "\n",
        "Ans:  The chi-square goodness-of-fit test is a statistical hypothesis test used to determine if a sample data distribution matches a hypothesized (theoretical) distribution, by comparing observed frequencies with expected frequencies\n",
        "\n",
        "How it's applied:\n",
        "1. Formulate Hypothesis:\n",
        "Null Hypothesis (H0): The observed data comes from the hypothesized distribution.\n",
        "Alternative Hypothesis (Ha): The observed data does not come from the hypothesized distribution.\n",
        "2. Collect Data:\n",
        "Gather your sample data and identify the categories or intervals for which you want to compare observed and expected frequencies.\n",
        "3. Determine Expected Frequencies:\n",
        "Calculate the expected frequencies for each category based on the hypothesized distribution.\n",
        "4. Calculate the Chi-Square Statistic:\n",
        "For each category, find the difference between the observed frequency (O) and the expected frequency (E), square it, and divide by the expected frequency.\n",
        "Sum these values across all categories to obtain the chi-square statistic (χ²): χ² = Σ [(O - E)² / E].\n",
        "5. Determine Degrees of Freedom:\n",
        "The degrees of freedom (df) are calculated as the number of categories minus 1 (df = k - 1), where k is the number of categories.\n",
        "6. Find the p-value:\n",
        "Compare the calculated chi-square statistic to the chi-square distribution with the corresponding degrees of freedom to find the p-value.\n",
        "7. Make a Decision:\n",
        "Set a significance level (α), typically 0.05.\n",
        "If the p-value is less than or equal to α, reject the null hypothesis. This suggests the observed data is significantly different from the expected distribution.\n",
        "If the p-value is greater than α, fail to reject the null hypothesis. This suggests the observed data is consistent with the hypothesized distribution."
      ],
      "metadata": {
        "id": "ZomR9aqvkMe0"
      }
    },
    {
      "cell_type": "markdown",
      "source": [
        "19. What is the F-distribution, and when is it used in hypothesis testing?\n",
        "\n",
        "Ans:\n",
        "\n",
        "The F-distribution is a continuous probability distribution that arises when the ratio of two independent chi-squared distributed variables (each divided by their degrees of freedom) is taken.\n",
        "- When to use it:\n",
        "- Comparing variances: The F-distribution is used to test if the variances of two populations are equal, or if the variability between groups is greater than the variability within groups.\n",
        "- ANOVA: In ANOVA, the F-test uses the F-distribution to determine if there are statistically significant differences between the means of two or more groups.\n",
        "- Regression Analysis: The F-distribution is also used in regression analysis to test the overall significance of a regression model."
      ],
      "metadata": {
        "id": "q32e1XytkMmF"
      }
    },
    {
      "cell_type": "markdown",
      "source": [
        "20. What is an ANOVA test, and what are its assumptions?\n",
        "\n",
        "Ans:\n",
        "\n",
        "- ANOVA is a method to analyze the variance within and between different groups to determine if the differences between the group means are statistically significant.\n",
        "- It's used when you have one or more independent variables (factors) and one dependent variable, and you want to see if the independent variable has a significant effect on the dependent variable.\n",
        "- Unlike t-tests, which compare the means of two groups, ANOVA can compare the means of three or more groups simultaneously.\n",
        "\n",
        "- Assumptions of ANOVA:\n",
        "- Normality: The dependent variable should be normally distributed within each group.\n",
        "- Homogeneity of Variance (Homoscedasticity): The variances of the dependent variable should be approximately equal across all groups.\n",
        "- Independence of Observations: The observations within each group should be independent of each other, meaning that the value of one observation should not influence the value of another.\n",
        "- Data level: The dependent variable should be measured on an interval or ratio scale."
      ],
      "metadata": {
        "id": "E0iTEVWikMty"
      }
    },
    {
      "cell_type": "markdown",
      "source": [
        "21.  What are the different types of ANOVA tests?\n",
        "\n",
        "Ans:\n",
        "\n",
        "1. One-Way ANOVA:\n",
        "- Purpose: Used to compare the means of two or more groups when you have one independent variable (factor) with multiple levels.\n",
        "- Example: Comparing the average test scores of students in different teaching methods (e.g., lecture, online, hybrid).\n",
        "- Also known as: Simple ANOVA.\n",
        "2. Two-Way ANOVA (Factorial ANOVA):\n",
        "- Purpose: Examines the effects of two or more independent variables (factors) on a dependent variable, including potential interactions between the factors.\n",
        "- Example: Investigating the impact of both teaching method and student background on test scores.\n",
        "- Extension of: One-way ANOVA.\n",
        "3. Repeated Measures ANOVA (rANOVA):\n",
        "- Purpose: Used when the same subjects are measured multiple times under different conditions or at different time points.\n",
        "- Example: Measuring blood pressure before and after taking a medication.\n",
        "- Also known as: Within-subject ANOVA or ANOVA for correlated samples."
      ],
      "metadata": {
        "id": "PdmJkmrVkM0v"
      }
    },
    {
      "cell_type": "markdown",
      "source": [
        "22.  What is the F-test, and how does it relate to hypothesis testing?\n",
        "\n",
        "Ans:  \n",
        "- The F-test is a statistical test that compares variances, used in hypothesis testing to determine if the variances of two or more populations are significantly different, often used in ANOVA and regression analysis.\n",
        "- The F-test, also known as the F-ratio test or variance ratio test, is used to compare the variances of two or more populations or samples.\n",
        "- How it relates to Hypothesis Testing:\n",
        "1. Null Hypothesis:\n",
        "In an F-test, the null hypothesis typically states that there is no significant difference between the variances of the populations being compared.\n",
        "2. Alternative Hypothesis:\n",
        "The alternative hypothesis states that there is a significant difference between the variances.  "
      ],
      "metadata": {
        "id": "-o65s3ewkM76"
      }
    },
    {
      "cell_type": "markdown",
      "source": [
        "#Practical Questions"
      ],
      "metadata": {
        "id": "JEz6gxITlxAX"
      }
    },
    {
      "cell_type": "markdown",
      "source": [
        "1.  Write a Python program to perform a Z-test for comparing a sample mean to a known population mean and\n",
        "interpret the results."
      ],
      "metadata": {
        "id": "O74cX87akND2"
      }
    },
    {
      "cell_type": "code",
      "source": [
        "\n",
        "import math\n",
        "import numpy as np\n",
        "from statsmodels.stats.weightstats import ztest\n",
        "from scipy.stats import norm\n",
        "\n",
        "sample_marks = [650,730,510,670,480,800,690,530,590,620,710,670,640,780,650,490,800,600,510,700]\n",
        "\n",
        "sample_mean = np.mean(sample_marks)\n",
        "sample_size = np.count_nonzero(sample_marks)\n",
        "population_mean = 600\n",
        "population_std = 100\n",
        "alpha = 0.05\n",
        "z_score = (sample_mean-population_mean)/(population_std/math.sqrt(sample_size))\n",
        "critical_value = 1.645 # from z table\n",
        "if(z_score<critical_value):\n",
        "    print('Null hypothesis is accepted!')\n",
        "else:\n",
        "    print('Null hypothesis is rejected. \\nAlternate hypothesis is accepted!')\n",
        ""
      ],
      "metadata": {
        "colab": {
          "base_uri": "https://localhost:8080/"
        },
        "id": "l60dg67tl27x",
        "outputId": "e750c409-0c14-4cfc-93c5-c06dbbb229b9"
      },
      "execution_count": 1,
      "outputs": [
        {
          "output_type": "stream",
          "name": "stdout",
          "text": [
            "Null hypothesis is rejected. \n",
            "Alternate hypothesis is accepted!\n"
          ]
        }
      ]
    },
    {
      "cell_type": "markdown",
      "source": [
        "2.  Simulate random data to perform hypothesis testing and calculate the corresponding P-value using Python."
      ],
      "metadata": {
        "id": "Toi5FMdQkNKv"
      }
    },
    {
      "cell_type": "code",
      "source": [
        "import numpy as np\n",
        "import random\n",
        "import scipy.stats as stats\n",
        "a = [random.gauss(50, 20) for x in range(30)]\n",
        "b = [random.gauss(55, 15) for x in range(30)]\n",
        "\n",
        "\n",
        "t_stat, p_value = stats.ttest_1samp(a, 45, axis=0)\n",
        "\n",
        "\n",
        "print(\"T-statistic:\", t_stat)\n",
        "print(\"P-value:\", p_value)\n",
        "print(np.mean(a))\n"
      ],
      "metadata": {
        "colab": {
          "base_uri": "https://localhost:8080/"
        },
        "id": "Pm94oOfal7Nz",
        "outputId": "5959d0a4-7c42-45fa-d84f-18d2224ddb95"
      },
      "execution_count": 2,
      "outputs": [
        {
          "output_type": "stream",
          "name": "stdout",
          "text": [
            "T-statistic: 2.1639254642421126\n",
            "P-value: 0.03884565788038348\n",
            "53.04307947071759\n"
          ]
        }
      ]
    },
    {
      "cell_type": "markdown",
      "source": [
        "3. Implement a one-sample Z-test using Python to compare the sample mean with the population mean."
      ],
      "metadata": {
        "id": "Z6GorJBil71R"
      }
    },
    {
      "cell_type": "code",
      "source": [
        "import math\n",
        "import numpy as np\n",
        "from statsmodels.stats.weightstats import ztest\n",
        "from scipy.stats import norm\n",
        "\n",
        "sample_marks = [650,730,510,670,480,800,690,530,590,620,710,670,640,780,650,490,800,600,510,700]\n",
        "\n",
        "sample_mean = np.mean(sample_marks)\n",
        "sample_size = np.count_nonzero(sample_marks)\n",
        "population_mean = 600\n",
        "population_std = 100\n",
        "alpha = 0.05\n",
        "z_score = (sample_mean-population_mean)/(population_std/math.sqrt(sample_size))\n",
        "critical_value = 1.645 # from z table\n",
        "if(z_score<critical_value):\n",
        "    print('Null hypothesis is accepted!')\n",
        "else:\n",
        "    print('Null hypothesis is rejected. \\nAlternate hypothesis is accepted!')"
      ],
      "metadata": {
        "colab": {
          "base_uri": "https://localhost:8080/"
        },
        "id": "uK9OZrsGmCui",
        "outputId": "fe7a5ab4-c4aa-4766-a622-f67e6d9f2024"
      },
      "execution_count": 3,
      "outputs": [
        {
          "output_type": "stream",
          "name": "stdout",
          "text": [
            "Null hypothesis is rejected. \n",
            "Alternate hypothesis is accepted!\n"
          ]
        }
      ]
    },
    {
      "cell_type": "markdown",
      "source": [
        "4.  Perform a two-tailed Z-test using Python and visualize the decision region on a plot."
      ],
      "metadata": {
        "id": "U8IixzE1mDHj"
      }
    },
    {
      "cell_type": "code",
      "source": [
        "import scipy\n",
        "import pandas as pd\n",
        "import numpy as np\n",
        "import matplotlib.pyplot as plt\n",
        "import seaborn as sns\n",
        "\n",
        "%matplotlib inline\n",
        "import scipy.stats as stats\n",
        "mu, sigma = 5, 1.3\n",
        "\n",
        "x_bar = 5.25 # ~!!sample mean!!~# calculating the test statistic\n",
        "test_stat = (x_bar - mu) / (sigma/np.sqrt(45))\n",
        "test_stat\n",
        "\n",
        "from scipy.stats import norm\n",
        "x = np.linspace(-4, 4, 100)\n",
        "plt.plot(x, norm.pdf(x, 0, 1))\n",
        "plt.axvline(x = test_stat, c = 'r')\n",
        "plt.show()"
      ],
      "metadata": {
        "colab": {
          "base_uri": "https://localhost:8080/",
          "height": 430
        },
        "id": "AEK7vkr0mIN4",
        "outputId": "f39f76e2-9b75-4bbe-c42d-fa950f9d7e2f"
      },
      "execution_count": 4,
      "outputs": [
        {
          "output_type": "display_data",
          "data": {
            "text/plain": [
              "<Figure size 640x480 with 1 Axes>"
            ],
            "image/png": "[encoded data removed]"
          },
          "metadata": {}
        }
      ]
    },
    {
      "cell_type": "markdown",
      "source": [
        "5.  Create a Python function that calculates and visualizes Type 1 and Type 2 errors during hypothesis testing."
      ],
      "metadata": {
        "id": "qqwMXh1omIos"
      }
    },
    {
      "cell_type": "code",
      "source": [
        "import numpy as np\n",
        "import matplotlib.pyplot as plt\n",
        "from scipy.stats import norm\n",
        "\n",
        "def visualize_type_errors(mean_null, std_null, mean_alt, std_alt, alpha):\n",
        "    critical_z = norm.ppf(1 - alpha)\n",
        "    critical_value = mean_null + critical_z * std_null\n",
        "    beta = norm.cdf( (critical_value - mean_alt) / std_alt)\n",
        "    power = 1 - beta\n",
        "    x = np.linspace(mean_null - 5 * std_null, mean_null + 5 * std_null, 100)\n",
        "    plt.plot(x, norm.pdf(x, mean_null, std_null), label=\"Null Hypothesis (H0)\", color=\"blue\")\n",
        "    plt.plot(x, norm.pdf(x, mean_alt, std_alt), label=\"Alternative Hypothesis (H1)\", color=\"orange\")\n",
        "    plt.fill_between(x[x > critical_value], norm.pdf(x[x > critical_value], mean_null, std_null), color=\"red\", alpha=0.3, label=\"Type I Error (α)\")\n",
        "    plt.fill_between(x[x < critical_value], norm.pdf(x[x < critical_value], mean_alt, std_alt), color=\"green\", alpha=0.3, label=\"Type II Error (β)\")\n",
        "    plt.axvline(x=critical_value, color=\"black\", linestyle=\"--\", label=\"Critical Value\")\n",
        "    plt.xlabel(\"Sample Mean\")\n",
        "    plt.ylabel(\"Probability Density\")\n",
        "    plt.title(\"Type I and Type II Errors in Hypothesis Testing\")\n",
        "    plt.legend()\n",
        "    plt.grid(True)\n",
        "    plt.show()\n",
        "    print(f\"Critical Value: {critical_value:.2f}\")\n",
        "    print(f\"Type I Error (alpha): {alpha:.2f}\")\n",
        "    print(f\"Type II Error (beta): {beta:.2f}\")\n",
        "    print(f\"Power (1-beta): {power:.2f}\")"
      ],
      "metadata": {
        "id": "MoRhZWj7mMVV"
      },
      "execution_count": 6,
      "outputs": []
    },
    {
      "cell_type": "markdown",
      "source": [
        "6. Write a Python program to perform an independent T-test and interpret the results."
      ],
      "metadata": {
        "id": "w74YB2rkmOMu"
      }
    },
    {
      "cell_type": "code",
      "source": [
        "# Import necessary libraries\n",
        "import numpy as np\n",
        "from scipy import stats\n",
        "\n",
        "student_scores = np.array([72, 89, 65, 73, 79, 84, 63, 76, 85, 75])\n",
        "\n",
        "mu = 70\n",
        "t_stat, p_value = stats.ttest_1samp(student_scores, mu)\n",
        "print(\"T statistic:\", t_stat)\n",
        "print(\"P-value:\", p_value)\n",
        "\n",
        "alpha = 0.05\n",
        "if p_value < alpha:\n",
        "    print(\"Reject the null hypothesis; there is a significant difference between the sample mean and the hypothesized population mean.\")\n",
        "else:\n",
        "    print(\"Fail to reject the null hypothesis; there is no significant difference between the sample mean and the hypothesized population mean.\")"
      ],
      "metadata": {
        "colab": {
          "base_uri": "https://localhost:8080/"
        },
        "id": "A_R_DqtkmQgn",
        "outputId": "7a641afe-1d47-4fc5-d0e8-d41605825bae"
      },
      "execution_count": 7,
      "outputs": [
        {
          "output_type": "stream",
          "name": "stdout",
          "text": [
            "T statistic: 2.2894683580127317\n",
            "P-value: 0.047816221110566944\n",
            "Reject the null hypothesis; there is a significant difference between the sample mean and the hypothesized population mean.\n"
          ]
        }
      ]
    },
    {
      "cell_type": "markdown",
      "source": [
        "7. Perform a paired sample T-test using Python and visualize the comparison results.\n",
        "\n"
      ],
      "metadata": {
        "id": "U7diG9BImQ7Z"
      }
    },
    {
      "cell_type": "code",
      "source": [
        "\n",
        "import scipy.stats as stats\n",
        "\n",
        "pre = [30, 31, 34, 40, 36, 35,\n",
        "       34, 30, 28, 29]\n",
        "post = [30, 31, 32, 38, 32, 31,\n",
        "        32, 29, 28, 30]\n",
        "\n",
        "stats.ttest_rel(pre, post)"
      ],
      "metadata": {
        "colab": {
          "base_uri": "https://localhost:8080/"
        },
        "id": "egHqDKYUmW90",
        "outputId": "d1d69fa5-18eb-45f2-edfc-45ce9ed5a264"
      },
      "execution_count": 8,
      "outputs": [
        {
          "output_type": "execute_result",
          "data": {
            "text/plain": [
              "TtestResult(statistic=2.584921310565987, pvalue=0.029457853822895275, df=9)"
            ]
          },
          "metadata": {},
          "execution_count": 8
        }
      ]
    },
    {
      "cell_type": "markdown",
      "source": [
        "8. Simulate data and perform both Z-test and T-test, then compare the results using Python."
      ],
      "metadata": {
        "id": "C6VCaRprmXYW"
      }
    },
    {
      "cell_type": "code",
      "source": [
        "import numpy as np\n",
        "from scipy import stats\n",
        "\n",
        "# Simulate data (e.g., two groups)\n",
        "np.random.seed(42)  # for reproducibility\n",
        "group1_data = np.random.normal(loc=50, scale=10, size=35)  # Larger sample size for Z-test\n",
        "group2_data = np.random.normal(loc=55, scale=12, size=25)  # Smaller sample size for T-test\n",
        "\n",
        "# Perform Z-test (using group1_data as sample, group2_data as population)\n",
        "z_statistic, z_pvalue = stats.ttest_ind(group1_data, group2_data)  # ttest_ind can be used as a Z-test if sample size is large\n",
        "\n",
        "# Perform T-test (using group1_data and group2_data)\n",
        "t_statistic, t_pvalue = stats.ttest_ind(group1_data, group2_data)\n",
        "\n",
        "# Print results\n",
        "print(\"Z-test (using ttest_ind):\")\n",
        "print(f\"  Z-statistic: {z_statistic:.3f}\")\n",
        "print(f\"  Z-pvalue: {z_pvalue:.3f}\")\n",
        "\n",
        "print(\"\\nT-test:\")\n",
        "print(f\"  T-statistic: {t_statistic:.3f}\")\n",
        "print(f\"  T-pvalue: {t_pvalue:.3f}\")\n",
        "\n",
        "# Compare conclusions\n",
        "alpha = 0.05  # Significance level\n",
        "if t_pvalue < alpha:\n",
        "    print(\"\\nConclusion (T-test): Reject null hypothesis (significant difference)\")\n",
        "else:\n",
        "    print(\"\\nConclusion (T-test): Fail to reject null hypothesis (no significant difference)\")\n",
        "\n",
        "if z_pvalue < alpha:\n",
        "    print(\"\\nConclusion (Z-test): Reject null hypothesis (significant difference)\")\n",
        "else:\n",
        "    print(\"\\nConclusion (Z-test): Fail to reject null hypothesis (no significant difference)\")"
      ],
      "metadata": {
        "colab": {
          "base_uri": "https://localhost:8080/"
        },
        "id": "3NUc6CfumZAD",
        "outputId": "d8f97b55-bf01-453b-d5ee-e9a337d7139b"
      },
      "execution_count": 9,
      "outputs": [
        {
          "output_type": "stream",
          "name": "stdout",
          "text": [
            "Z-test (using ttest_ind):\n",
            "  Z-statistic: -1.579\n",
            "  Z-pvalue: 0.120\n",
            "\n",
            "T-test:\n",
            "  T-statistic: -1.579\n",
            "  T-pvalue: 0.120\n",
            "\n",
            "Conclusion (T-test): Fail to reject null hypothesis (no significant difference)\n",
            "\n",
            "Conclusion (Z-test): Fail to reject null hypothesis (no significant difference)\n"
          ]
        }
      ]
    },
    {
      "cell_type": "markdown",
      "source": [
        "9.  Write a Python function to calculate the confidence interval for a sample mean and explain its significance."
      ],
      "metadata": {
        "id": "Ci-dOztFmb5p"
      }
    },
    {
      "cell_type": "code",
      "source": [
        "import pandas as pd\n",
        "import numpy as np\n",
        "import scipy.stats as st\n",
        "import matplotlib.pyplot as plt\n",
        "import matplotlib.ticker as tkr\n",
        "import matplotlib.scale as mscale\n",
        "from matplotlib.ticker import FixedLocator, NullFormatter\n",
        "pd.options.display.float_format = '{:.0f}'.format\n",
        "pd.options.mode.chained_assignment = None\n",
        "\n",
        "#define sample data\n",
        "data = [12, 12, 13, 13, 15, 16, 17, 22, 23, 25, 26, 27, 28, 28, 29]\n",
        "\n",
        "#create 95% confidence interval for population mean weight\n",
        "st.t.interval(confidence=0.95, df=len(data)-1, loc=np.mean(data), scale=st.sem(data))\n",
        "\n",
        "(16.758, 24.042)"
      ],
      "metadata": {
        "colab": {
          "base_uri": "https://localhost:8080/"
        },
        "id": "dIHSbeP1mdGu",
        "outputId": "3cd0574b-38c4-499d-fd73-9fd9d4377832"
      },
      "execution_count": 18,
      "outputs": [
        {
          "output_type": "execute_result",
          "data": {
            "text/plain": [
              "(16.758, 24.042)"
            ]
          },
          "metadata": {},
          "execution_count": 18
        }
      ]
    },
    {
      "cell_type": "markdown",
      "source": [
        "10.  Write a Python program to calculate the margin of error for a given confidence level using sample data."
      ],
      "metadata": {
        "id": "ICuDjPNsmdfL"
      }
    },
    {
      "cell_type": "code",
      "source": [
        "\n",
        "import numpy as np\n",
        "import scipy.stats as st\n",
        "\n",
        "gfg_data = [1, 1, 1, 2, 2, 2, 3, 3, 3, 3,\n",
        "            3, 4, 4, 5, 5, 5, 6, 7, 8, 10]\n",
        "\n",
        "st.t.interval(confidence=0.90, df=len(gfg_data)-1,\n",
        "              loc=np.mean(gfg_data),\n",
        "              scale=st.sem(gfg_data))"
      ],
      "metadata": {
        "colab": {
          "base_uri": "https://localhost:8080/"
        },
        "id": "gol66bGfmlaa",
        "outputId": "46cb92a0-a13e-4961-fa2b-814976abf1c0"
      },
      "execution_count": 19,
      "outputs": [
        {
          "output_type": "execute_result",
          "data": {
            "text/plain": [
              "(2.962098014195961, 4.837901985804038)"
            ]
          },
          "metadata": {},
          "execution_count": 19
        }
      ]
    },
    {
      "cell_type": "markdown",
      "source": [
        "11. Implement a Bayesian inference method using Bayes' Theorem in Python and explain the process.\n"
      ],
      "metadata": {
        "id": "CFAv2Ml6ml3T"
      }
    },
    {
      "cell_type": "code",
      "source": [
        "import numpy as np\n",
        "import matplotlib.pyplot as plt\n",
        "import scipy.stats as st\n",
        "import seaborn as sns\n",
        "def drug_user(prob_th=0.5,sensitivity=0.99,specificity=0.99,prevelance=0.01,verbose=True):\n",
        "    \"\"\"\n",
        "    \"\"\"\n",
        "    p_user = prevelance\n",
        "    p_non_user = 1-prevelance\n",
        "    p_pos_user = sensitivity\n",
        "    p_neg_user = specificity\n",
        "    p_pos_non_user = 1-specificity\n",
        "\n",
        "    num = p_pos_user*p_user\n",
        "    den = p_pos_user*p_user+p_pos_non_user*p_non_user\n",
        "\n",
        "    prob = num/den\n",
        "\n",
        "    if verbose:\n",
        "        if prob > prob_th:\n",
        "            print(\"The test-taker could be an user\")\n",
        "        else:\n",
        "            print(\"The test-taker may not be an user\")\n",
        "\n",
        "    return prob\n",
        "p = drug_user(prob_th=0.5,sensitivity=0.97,specificity=0.95,prevelance=0.005)\n",
        "print(\"Probability of the test-taker being a drug user is:\",round(p,3))\n",
        "\n",
        "ps = []\n",
        "pres = []\n",
        "for pre in [i*0.001 for i in range(1,51,2)]:\n",
        "    pres.append(pre*100)\n",
        "    p = drug_user(prob_th=0.5,sensitivity=0.97,specificity=0.95,prevelance=pre,verbose=False)\n",
        "    ps.append(p)\n",
        "\n",
        "plt.figure(figsize=(10,5))\n",
        "plt.title(\"Probability of user with prevelance rate\",fontsize=15)\n",
        "plt.plot(pres,ps,color='k',marker='o',markersize=8)\n",
        "plt.grid(True)\n",
        "plt.xlabel(\"Prevelance (percentage)\",fontsize=14)\n",
        "plt.ylabel(\"Probability of being an user\",fontsize=14)\n",
        "plt.xticks([i*0.25 for i in range(1,21)],fontsize=12,rotation=45)\n",
        "plt.yticks(fontsize=12)\n",
        "plt.show()"
      ],
      "metadata": {
        "colab": {
          "base_uri": "https://localhost:8080/",
          "height": 554
        },
        "id": "3tl6yIswmrh7",
        "outputId": "16f9f338-3dfa-4eff-89a0-f43e108ecacd"
      },
      "execution_count": 20,
      "outputs": [
        {
          "output_type": "stream",
          "name": "stdout",
          "text": [
            "The test-taker may not be an user\n",
            "Probability of the test-taker being a drug user is: 0.089\n"
          ]
        },
        {
          "output_type": "display_data",
          "data": {
            "text/plain": [
              "<Figure size 1000x500 with 1 Axes>"
            ],
            "image/png": "[encoded data removed]"
          },
          "metadata": {}
        }
      ]
    },
    {
      "cell_type": "markdown",
      "source": [
        "12. Perform a Chi-square test for independence between two categorical variables in Python.\n"
      ],
      "metadata": {
        "id": "R1Gh9685mr8m"
      }
    },
    {
      "cell_type": "code",
      "source": [
        "import pandas as pd\n",
        "from scipy.stats import chi2_contingency\n",
        "\n",
        "# Example data (replace with your actual data)\n",
        "data = {'Category1': ['A', 'A', 'B', 'B', 'A', 'B'],\n",
        "        'Category2': ['X', 'Y', 'X', 'Y', 'Y', 'X']}\n",
        "df = pd.DataFrame(data)\n",
        "\n",
        "# Create a contingency table\n",
        "contingency_table = pd.crosstab(df['Category1'], df['Category2'])\n",
        "print(\"Contingency Table:\\n\", contingency_table)\n",
        "\n",
        "# Perform the Chi-Square Test\n",
        "chi2_stat, p_value, dof, expected = chi2_contingency(contingency_table)\n",
        "print(\"\\nChi-Square Test Results:\")\n",
        "print(\"Chi-Square Statistic:\", chi2_stat)\n",
        "print(\"P-value:\", p_value)\n",
        "print(\"Degrees of Freedom:\", dof)\n",
        "print(\"Expected Frequencies:\\n\", expected)\n",
        "\n",
        "# Interpret the results\n",
        "alpha = 0.05  # Significance level\n",
        "if p_value <= alpha:\n",
        "    print(\"\\nReject null hypothesis: Variables are likely dependent.\")\n",
        "else:\n",
        "    print(\"\\nFail to reject null hypothesis: Variables are likely independent.\")"
      ],
      "metadata": {
        "colab": {
          "base_uri": "https://localhost:8080/"
        },
        "id": "YI29Y2mEmvro",
        "outputId": "44adf132-7ad7-47c4-af14-8866407eccbb"
      },
      "execution_count": 21,
      "outputs": [
        {
          "output_type": "stream",
          "name": "stdout",
          "text": [
            "Contingency Table:\n",
            " Category2  X  Y\n",
            "Category1      \n",
            "A          1  2\n",
            "B          2  1\n",
            "\n",
            "Chi-Square Test Results:\n",
            "Chi-Square Statistic: 0.0\n",
            "P-value: 1.0\n",
            "Degrees of Freedom: 1\n",
            "Expected Frequencies:\n",
            " [[1.5 1.5]\n",
            " [1.5 1.5]]\n",
            "\n",
            "Fail to reject null hypothesis: Variables are likely independent.\n"
          ]
        }
      ]
    },
    {
      "cell_type": "markdown",
      "source": [
        "13. Write a Python program to calculate the expected frequencies for a Chi-square test based on observed\n",
        "data.\n"
      ],
      "metadata": {
        "id": "dybaQ_B7mwPT"
      }
    },
    {
      "cell_type": "code",
      "source": [
        "from scipy import stats\n",
        "\n",
        "# Observed frequencies\n",
        "observed_frequencies = [25, 30, 20, 15, 10]\n",
        "\n",
        "# Expected frequencies\n",
        "expected_frequencies = [20, 20, 20, 20, 20]\n",
        "\n",
        "# Perform the chi-squared test\n",
        "chi2, p = stats.chisquare(observed_frequencies, f_exp=expected_frequencies)\n",
        "\n",
        "# Print the test statistic and p-value\n",
        "print(\"Chi-squared test statistic:\", chi2)\n",
        "print(\"p-value:\", p)"
      ],
      "metadata": {
        "colab": {
          "base_uri": "https://localhost:8080/"
        },
        "id": "CSYVPm6om0qV",
        "outputId": "b56bdb9b-f54d-4883-d1aa-8e3da4d17507"
      },
      "execution_count": 22,
      "outputs": [
        {
          "output_type": "stream",
          "name": "stdout",
          "text": [
            "Chi-squared test statistic: 12.5\n",
            "p-value: 0.013995792487650894\n"
          ]
        }
      ]
    },
    {
      "cell_type": "markdown",
      "source": [
        "14. Perform a goodness-of-fit test using Python to compare the observed data to an expected distribution.\n"
      ],
      "metadata": {
        "id": "I7mlayiom1IC"
      }
    },
    {
      "cell_type": "code",
      "source": [
        "import numpy as np\n",
        "from scipy.stats import chisquare\n",
        "\n",
        "# Example: Observed frequencies for a 6-sided die\n",
        "observed_data = np.array([10, 12, 15, 13, 14, 16])\n",
        "\n",
        "# Example: Expected frequencies (assuming a fair die)\n",
        "expected_data = np.array([20, 20, 20, 20, 20, 20])\n",
        "\n",
        "# Perform the chi-square test\n",
        "statistic, p_value = chisquare(observed_data, f_exp=expected_data)\n",
        "\n",
        "print(f\"Chi-square statistic: {statistic}\")\n",
        "print(f\"P-value: {p_value}\")\n",
        "\n",
        "# Example decision based on a significance level of 0.05\n",
        "alpha = 0.05\n",
        "if p_value <= alpha:\n",
        "    print(\"Reject the null hypothesis. The observed data does not fit the expected distribution.\")\n",
        "else:\n",
        "    print(\"Fail to reject the null hypothesis. The observed data fits the expected distribution.\")"
      ],
      "metadata": {
        "colab": {
          "base_uri": "https://localhost:8080/",
          "height": 391
        },
        "id": "YV1kv4Hgm4oG",
        "outputId": "e2ca4b5e-8cd0-4b60-a43b-c6d45e0971f1"
      },
      "execution_count": 23,
      "outputs": [
        {
          "output_type": "error",
          "ename": "ValueError",
          "evalue": "For each axis slice, the sum of the observed frequencies must agree with the sum of the expected frequencies to a relative tolerance of 1e-08, but the percent differences are:\n0.5",
          "traceback": [
            "\u001b[0;31m---------------------------------------------------------------------------\u001b[0m",
            "\u001b[0;31mValueError\u001b[0m                                Traceback (most recent call last)",
            "\u001b[0;32m<ipython-input-23-6ed09d23cb92>\u001b[0m in \u001b[0;36m<cell line: 0>\u001b[0;34m()\u001b[0m\n\u001b[1;32m      9\u001b[0m \u001b[0;34m\u001b[0m\u001b[0m\n\u001b[1;32m     10\u001b[0m \u001b[0;31m# Perform the chi-square test\u001b[0m\u001b[0;34m\u001b[0m\u001b[0;34m\u001b[0m\u001b[0m\n\u001b[0;32m---> 11\u001b[0;31m \u001b[0mstatistic\u001b[0m\u001b[0;34m,\u001b[0m \u001b[0mp_value\u001b[0m \u001b[0;34m=\u001b[0m \u001b[0mchisquare\u001b[0m\u001b[0;34m(\u001b[0m\u001b[0mobserved_data\u001b[0m\u001b[0;34m,\u001b[0m \u001b[0mf_exp\u001b[0m\u001b[0;34m=\u001b[0m\u001b[0mexpected_data\u001b[0m\u001b[0;34m)\u001b[0m\u001b[0;34m\u001b[0m\u001b[0;34m\u001b[0m\u001b[0m\n\u001b[0m\u001b[1;32m     12\u001b[0m \u001b[0;34m\u001b[0m\u001b[0m\n\u001b[1;32m     13\u001b[0m \u001b[0mprint\u001b[0m\u001b[0;34m(\u001b[0m\u001b[0;34mf\"Chi-square statistic: {statistic}\"\u001b[0m\u001b[0;34m)\u001b[0m\u001b[0;34m\u001b[0m\u001b[0;34m\u001b[0m\u001b[0m\n",
            "\u001b[0;32m/usr/local/lib/python3.11/dist-packages/scipy/stats/_stats_py.py\u001b[0m in \u001b[0;36mchisquare\u001b[0;34m(f_obs, f_exp, ddof, axis)\u001b[0m\n\u001b[1;32m   8173\u001b[0m \u001b[0;34m\u001b[0m\u001b[0m\n\u001b[1;32m   8174\u001b[0m     \"\"\"  # noqa: E501\n\u001b[0;32m-> 8175\u001b[0;31m     return power_divergence(f_obs, f_exp=f_exp, ddof=ddof, axis=axis,\n\u001b[0m\u001b[1;32m   8176\u001b[0m                             lambda_=\"pearson\")\n\u001b[1;32m   8177\u001b[0m \u001b[0;34m\u001b[0m\u001b[0m\n",
            "\u001b[0;32m/usr/local/lib/python3.11/dist-packages/scipy/stats/_stats_py.py\u001b[0m in \u001b[0;36mpower_divergence\u001b[0;34m(f_obs, f_exp, ddof, axis, lambda_)\u001b[0m\n\u001b[1;32m   7970\u001b[0m                    \u001b[0;34mf\"of {rtol}, but the percent differences are:\\n\"\u001b[0m\u001b[0;34m\u001b[0m\u001b[0;34m\u001b[0m\u001b[0m\n\u001b[1;32m   7971\u001b[0m                    f\"{relative_diff}\")\n\u001b[0;32m-> 7972\u001b[0;31m             \u001b[0;32mraise\u001b[0m \u001b[0mValueError\u001b[0m\u001b[0;34m(\u001b[0m\u001b[0mmsg\u001b[0m\u001b[0;34m)\u001b[0m\u001b[0;34m\u001b[0m\u001b[0;34m\u001b[0m\u001b[0m\n\u001b[0m\u001b[1;32m   7973\u001b[0m \u001b[0;34m\u001b[0m\u001b[0m\n\u001b[1;32m   7974\u001b[0m     \u001b[0;32melse\u001b[0m\u001b[0;34m:\u001b[0m\u001b[0;34m\u001b[0m\u001b[0;34m\u001b[0m\u001b[0m\n",
            "\u001b[0;31mValueError\u001b[0m: For each axis slice, the sum of the observed frequencies must agree with the sum of the expected frequencies to a relative tolerance of 1e-08, but the percent differences are:\n0.5"
          ]
        }
      ]
    },
    {
      "cell_type": "markdown",
      "source": [
        "15. Create a Python script to simulate and visualize the Chi-square distribution and discuss its characteristics.\n"
      ],
      "metadata": {
        "id": "S2rgWfgfm5CP"
      }
    },
    {
      "cell_type": "code",
      "source": [
        "import numpy as np\n",
        "import pandas as pd\n",
        "\n",
        "np.random.seed(10)\n",
        "# Sample data randomly at fixed probabilities\n",
        "type_bottle = np.random.choice(a= [\"paper\",\"cans\",\"glass\",\"others\",\"plastic\"],\n",
        "                              p = [0.05, 0.15 ,0.25, 0.05, 0.5],\n",
        "                              size=1000)\n",
        "\n",
        "# Sample data randomly at fixed probabilities\n",
        "month = np.random.choice(a= [\"January\",\"February\",\"March\"],\n",
        "                              p = [0.4, 0.2, 0.4],\n",
        "                              size=1000)\n",
        "\n",
        "bottles = pd.DataFrame({\"types\":type_bottle,\n",
        "                       \"months\":month})\n",
        "\n",
        "bottles_tab = pd.crosstab(bottles.types, bottles.months, margins = True)\n",
        "\n",
        "bottles_tab.columns = [\"January\",\"February\",\"March\",\"row_totals\"]\n",
        "\n",
        "bottles_tab.index = [\"paper\",\"cans\",\"glass\",\"others\",\"plastic\",\"col_totals\"]\n",
        "\n",
        "observed = bottles_tab.iloc[0:5,0:3]   # Get table without totals for later use\n",
        "bottles_tab"
      ],
      "metadata": {
        "colab": {
          "base_uri": "https://localhost:8080/",
          "height": 237
        },
        "id": "PWyCkVOlm8VH",
        "outputId": "1de33173-492e-437c-f44e-35a29f1725af"
      },
      "execution_count": 29,
      "outputs": [
        {
          "output_type": "execute_result",
          "data": {
            "text/plain": [
              "            January  February  March  row_totals\n",
              "paper            25        65     64         154\n",
              "cans             50       107     94         251\n",
              "glass             8        15     15          38\n",
              "others            7        21     32          60\n",
              "plastic          96       189    212         497\n",
              "col_totals      186       397    417        1000"
            ],
            "text/html": [
              "\n",
              "  <div id=\"df-ceec539a-26b0-4feb-93c9-9f07a8862637\" class=\"colab-df-container\">\n",
              "    <div>\n",
              "<style scoped>\n",
              "    .dataframe tbody tr th:only-of-type {\n",
              "        vertical-align: middle;\n",
              "    }\n",
              "\n",
              "    .dataframe tbody tr th {\n",
              "        vertical-align: top;\n",
              "    }\n",
              "\n",
              "    .dataframe thead th {\n",
              "        text-align: right;\n",
              "    }\n",
              "</style>\n",
              "<table border=\"1\" class=\"dataframe\">\n",
              "  <thead>\n",
              "    <tr style=\"text-align: right;\">\n",
              "      <th></th>\n",
              "      <th>January</th>\n",
              "      <th>February</th>\n",
              "      <th>March</th>\n",
              "      <th>row_totals</th>\n",
              "    </tr>\n",
              "  </thead>\n",
              "  <tbody>\n",
              "    <tr>\n",
              "      <th>paper</th>\n",
              "      <td>25</td>\n",
              "      <td>65</td>\n",
              "      <td>64</td>\n",
              "      <td>154</td>\n",
              "    </tr>\n",
              "    <tr>\n",
              "      <th>cans</th>\n",
              "      <td>50</td>\n",
              "      <td>107</td>\n",
              "      <td>94</td>\n",
              "      <td>251</td>\n",
              "    </tr>\n",
              "    <tr>\n",
              "      <th>glass</th>\n",
              "      <td>8</td>\n",
              "      <td>15</td>\n",
              "      <td>15</td>\n",
              "      <td>38</td>\n",
              "    </tr>\n",
              "    <tr>\n",
              "      <th>others</th>\n",
              "      <td>7</td>\n",
              "      <td>21</td>\n",
              "      <td>32</td>\n",
              "      <td>60</td>\n",
              "    </tr>\n",
              "    <tr>\n",
              "      <th>plastic</th>\n",
              "      <td>96</td>\n",
              "      <td>189</td>\n",
              "      <td>212</td>\n",
              "      <td>497</td>\n",
              "    </tr>\n",
              "    <tr>\n",
              "      <th>col_totals</th>\n",
              "      <td>186</td>\n",
              "      <td>397</td>\n",
              "      <td>417</td>\n",
              "      <td>1000</td>\n",
              "    </tr>\n",
              "  </tbody>\n",
              "</table>\n",
              "</div>\n",
              "    <div class=\"colab-df-buttons\">\n",
              "\n",
              "  <div class=\"colab-df-container\">\n",
              "    <button class=\"colab-df-convert\" onclick=\"convertToInteractive('df-ceec539a-26b0-4feb-93c9-9f07a8862637')\"\n",
              "            title=\"Convert this dataframe to an interactive table.\"\n",
              "            style=\"display:none;\">\n",
              "\n",
              "  <svg xmlns=\"http://www.w3.org/2000/svg\" height=\"24px\" viewBox=\"0 -960 960 960\">\n",
              "    <path d=\"M120-120v-720h720v720H120Zm60-500h600v-160H180v160Zm220 220h160v-160H400v160Zm0 220h160v-160H400v160ZM180-400h160v-160H180v160Zm440 0h160v-160H620v160ZM180-180h160v-160H180v160Zm440 0h160v-160H620v160Z\"/>\n",
              "  </svg>\n",
              "    </button>\n",
              "\n",
              "  <style>\n",
              "    .colab-df-container {\n",
              "      display:flex;\n",
              "      gap: 12px;\n",
              "    }\n",
              "\n",
              "    .colab-df-convert {\n",
              "      background-color: #E8F0FE;\n",
              "      border: none;\n",
              "      border-radius: 50%;\n",
              "      cursor: pointer;\n",
              "      display: none;\n",
              "      fill: #1967D2;\n",
              "      height: 32px;\n",
              "      padding: 0 0 0 0;\n",
              "      width: 32px;\n",
              "    }\n",
              "\n",
              "    .colab-df-convert:hover {\n",
              "      background-color: #E2EBFA;\n",
              "      box-shadow: 0px 1px 2px rgba(60, 64, 67, 0.3), 0px 1px 3px 1px rgba(60, 64, 67, 0.15);\n",
              "      fill: #174EA6;\n",
              "    }\n",
              "\n",
              "    .colab-df-buttons div {\n",
              "      margin-bottom: 4px;\n",
              "    }\n",
              "\n",
              "    [theme=dark] .colab-df-convert {\n",
              "      background-color: #3B4455;\n",
              "      fill: #D2E3FC;\n",
              "    }\n",
              "\n",
              "    [theme=dark] .colab-df-convert:hover {\n",
              "      background-color: #434B5C;\n",
              "      box-shadow: 0px 1px 3px 1px rgba(0, 0, 0, 0.15);\n",
              "      filter: drop-shadow(0px 1px 2px rgba(0, 0, 0, 0.3));\n",
              "      fill: #FFFFFF;\n",
              "    }\n",
              "  </style>\n",
              "\n",
              "    <script>\n",
              "      const buttonEl =\n",
              "        document.querySelector('#df-ceec539a-26b0-4feb-93c9-9f07a8862637 button.colab-df-convert');\n",
              "      buttonEl.style.display =\n",
              "        google.colab.kernel.accessAllowed ? 'block' : 'none';\n",
              "\n",
              "      async function convertToInteractive(key) {\n",
              "        const element = document.querySelector('#df-ceec539a-26b0-4feb-93c9-9f07a8862637');\n",
              "        const dataTable =\n",
              "          await google.colab.kernel.invokeFunction('convertToInteractive',\n",
              "                                                    [key], {});\n",
              "        if (!dataTable) return;\n",
              "\n",
              "        const docLinkHtml = 'Like what you see? Visit the ' +\n",
              "          '<a target=\"_blank\" href=https://colab.research.google.com/notebooks/data_table.ipynb>data table notebook</a>'\n",
              "          + ' to learn more about interactive tables.';\n",
              "        element.innerHTML = '';\n",
              "        dataTable['output_type'] = 'display_data';\n",
              "        await google.colab.output.renderOutput(dataTable, element);\n",
              "        const docLink = document.createElement('div');\n",
              "        docLink.innerHTML = docLinkHtml;\n",
              "        element.appendChild(docLink);\n",
              "      }\n",
              "    </script>\n",
              "  </div>\n",
              "\n",
              "\n",
              "<div id=\"df-1e4d75ae-e403-405a-8798-14e0fcb6b565\">\n",
              "  <button class=\"colab-df-quickchart\" onclick=\"quickchart('df-1e4d75ae-e403-405a-8798-14e0fcb6b565')\"\n",
              "            title=\"Suggest charts\"\n",
              "            style=\"display:none;\">\n",
              "\n",
              "<svg xmlns=\"http://www.w3.org/2000/svg\" height=\"24px\"viewBox=\"0 0 24 24\"\n",
              "     width=\"24px\">\n",
              "    <g>\n",
              "        <path d=\"M19 3H5c-1.1 0-2 .9-2 2v14c0 1.1.9 2 2 2h14c1.1 0 2-.9 2-2V5c0-1.1-.9-2-2-2zM9 17H7v-7h2v7zm4 0h-2V7h2v10zm4 0h-2v-4h2v4z\"/>\n",
              "    </g>\n",
              "</svg>\n",
              "  </button>\n",
              "\n",
              "<style>\n",
              "  .colab-df-quickchart {\n",
              "      --bg-color: #E8F0FE;\n",
              "      --fill-color: #1967D2;\n",
              "      --hover-bg-color: #E2EBFA;\n",
              "      --hover-fill-color: #174EA6;\n",
              "      --disabled-fill-color: #AAA;\n",
              "      --disabled-bg-color: #DDD;\n",
              "  }\n",
              "\n",
              "  [theme=dark] .colab-df-quickchart {\n",
              "      --bg-color: #3B4455;\n",
              "      --fill-color: #D2E3FC;\n",
              "      --hover-bg-color: #434B5C;\n",
              "      --hover-fill-color: #FFFFFF;\n",
              "      --disabled-bg-color: #3B4455;\n",
              "      --disabled-fill-color: #666;\n",
              "  }\n",
              "\n",
              "  .colab-df-quickchart {\n",
              "    background-color: var(--bg-color);\n",
              "    border: none;\n",
              "    border-radius: 50%;\n",
              "    cursor: pointer;\n",
              "    display: none;\n",
              "    fill: var(--fill-color);\n",
              "    height: 32px;\n",
              "    padding: 0;\n",
              "    width: 32px;\n",
              "  }\n",
              "\n",
              "  .colab-df-quickchart:hover {\n",
              "    background-color: var(--hover-bg-color);\n",
              "    box-shadow: 0 1px 2px rgba(60, 64, 67, 0.3), 0 1px 3px 1px rgba(60, 64, 67, 0.15);\n",
              "    fill: var(--button-hover-fill-color);\n",
              "  }\n",
              "\n",
              "  .colab-df-quickchart-complete:disabled,\n",
              "  .colab-df-quickchart-complete:disabled:hover {\n",
              "    background-color: var(--disabled-bg-color);\n",
              "    fill: var(--disabled-fill-color);\n",
              "    box-shadow: none;\n",
              "  }\n",
              "\n",
              "  .colab-df-spinner {\n",
              "    border: 2px solid var(--fill-color);\n",
              "    border-color: transparent;\n",
              "    border-bottom-color: var(--fill-color);\n",
              "    animation:\n",
              "      spin 1s steps(1) infinite;\n",
              "  }\n",
              "\n",
              "  @keyframes spin {\n",
              "    0% {\n",
              "      border-color: transparent;\n",
              "      border-bottom-color: var(--fill-color);\n",
              "      border-left-color: var(--fill-color);\n",
              "    }\n",
              "    20% {\n",
              "      border-color: transparent;\n",
              "      border-left-color: var(--fill-color);\n",
              "      border-top-color: var(--fill-color);\n",
              "    }\n",
              "    30% {\n",
              "      border-color: transparent;\n",
              "      border-left-color: var(--fill-color);\n",
              "      border-top-color: var(--fill-color);\n",
              "      border-right-color: var(--fill-color);\n",
              "    }\n",
              "    40% {\n",
              "      border-color: transparent;\n",
              "      border-right-color: var(--fill-color);\n",
              "      border-top-color: var(--fill-color);\n",
              "    }\n",
              "    60% {\n",
              "      border-color: transparent;\n",
              "      border-right-color: var(--fill-color);\n",
              "    }\n",
              "    80% {\n",
              "      border-color: transparent;\n",
              "      border-right-color: var(--fill-color);\n",
              "      border-bottom-color: var(--fill-color);\n",
              "    }\n",
              "    90% {\n",
              "      border-color: transparent;\n",
              "      border-bottom-color: var(--fill-color);\n",
              "    }\n",
              "  }\n",
              "</style>\n",
              "\n",
              "  <script>\n",
              "    async function quickchart(key) {\n",
              "      const quickchartButtonEl =\n",
              "        document.querySelector('#' + key + ' button');\n",
              "      quickchartButtonEl.disabled = true;  // To prevent multiple clicks.\n",
              "      quickchartButtonEl.classList.add('colab-df-spinner');\n",
              "      try {\n",
              "        const charts = await google.colab.kernel.invokeFunction(\n",
              "            'suggestCharts', [key], {});\n",
              "      } catch (error) {\n",
              "        console.error('Error during call to suggestCharts:', error);\n",
              "      }\n",
              "      quickchartButtonEl.classList.remove('colab-df-spinner');\n",
              "      quickchartButtonEl.classList.add('colab-df-quickchart-complete');\n",
              "    }\n",
              "    (() => {\n",
              "      let quickchartButtonEl =\n",
              "        document.querySelector('#df-1e4d75ae-e403-405a-8798-14e0fcb6b565 button');\n",
              "      quickchartButtonEl.style.display =\n",
              "        google.colab.kernel.accessAllowed ? 'block' : 'none';\n",
              "    })();\n",
              "  </script>\n",
              "</div>\n",
              "\n",
              "  <div id=\"id_c14541cf-18f5-46ce-9e50-113aa8d5d865\">\n",
              "    <style>\n",
              "      .colab-df-generate {\n",
              "        background-color: #E8F0FE;\n",
              "        border: none;\n",
              "        border-radius: 50%;\n",
              "        cursor: pointer;\n",
              "        display: none;\n",
              "        fill: #1967D2;\n",
              "        height: 32px;\n",
              "        padding: 0 0 0 0;\n",
              "        width: 32px;\n",
              "      }\n",
              "\n",
              "      .colab-df-generate:hover {\n",
              "        background-color: #E2EBFA;\n",
              "        box-shadow: 0px 1px 2px rgba(60, 64, 67, 0.3), 0px 1px 3px 1px rgba(60, 64, 67, 0.15);\n",
              "        fill: #174EA6;\n",
              "      }\n",
              "\n",
              "      [theme=dark] .colab-df-generate {\n",
              "        background-color: #3B4455;\n",
              "        fill: #D2E3FC;\n",
              "      }\n",
              "\n",
              "      [theme=dark] .colab-df-generate:hover {\n",
              "        background-color: #434B5C;\n",
              "        box-shadow: 0px 1px 3px 1px rgba(0, 0, 0, 0.15);\n",
              "        filter: drop-shadow(0px 1px 2px rgba(0, 0, 0, 0.3));\n",
              "        fill: #FFFFFF;\n",
              "      }\n",
              "    </style>\n",
              "    <button class=\"colab-df-generate\" onclick=\"generateWithVariable('bottles_tab')\"\n",
              "            title=\"Generate code using this dataframe.\"\n",
              "            style=\"display:none;\">\n",
              "\n",
              "  <svg xmlns=\"http://www.w3.org/2000/svg\" height=\"24px\"viewBox=\"0 0 24 24\"\n",
              "       width=\"24px\">\n",
              "    <path d=\"M7,19H8.4L18.45,9,17,7.55,7,17.6ZM5,21V16.75L18.45,3.32a2,2,0,0,1,2.83,0l1.4,1.43a1.91,1.91,0,0,1,.58,1.4,1.91,1.91,0,0,1-.58,1.4L9.25,21ZM18.45,9,17,7.55Zm-12,3A5.31,5.31,0,0,0,4.9,8.1,5.31,5.31,0,0,0,1,6.5,5.31,5.31,0,0,0,4.9,4.9,5.31,5.31,0,0,0,6.5,1,5.31,5.31,0,0,0,8.1,4.9,5.31,5.31,0,0,0,12,6.5,5.46,5.46,0,0,0,6.5,12Z\"/>\n",
              "  </svg>\n",
              "    </button>\n",
              "    <script>\n",
              "      (() => {\n",
              "      const buttonEl =\n",
              "        document.querySelector('#id_c14541cf-18f5-46ce-9e50-113aa8d5d865 button.colab-df-generate');\n",
              "      buttonEl.style.display =\n",
              "        google.colab.kernel.accessAllowed ? 'block' : 'none';\n",
              "\n",
              "      buttonEl.onclick = () => {\n",
              "        google.colab.notebook.generateWithVariable('bottles_tab');\n",
              "      }\n",
              "      })();\n",
              "    </script>\n",
              "  </div>\n",
              "\n",
              "    </div>\n",
              "  </div>\n"
            ],
            "application/vnd.google.colaboratory.intrinsic+json": {
              "type": "dataframe",
              "variable_name": "bottles_tab",
              "summary": "{\n  \"name\": \"bottles_tab\",\n  \"rows\": 6,\n  \"fields\": [\n    {\n      \"column\": \"January\",\n      \"properties\": {\n        \"dtype\": \"number\",\n        \"std\": 69,\n        \"min\": 7,\n        \"max\": 186,\n        \"num_unique_values\": 6,\n        \"samples\": [\n          25,\n          50,\n          186\n        ],\n        \"semantic_type\": \"\",\n        \"description\": \"\"\n      }\n    },\n    {\n      \"column\": \"February\",\n      \"properties\": {\n        \"dtype\": \"number\",\n        \"std\": 144,\n        \"min\": 15,\n        \"max\": 397,\n        \"num_unique_values\": 6,\n        \"samples\": [\n          65,\n          107,\n          397\n        ],\n        \"semantic_type\": \"\",\n        \"description\": \"\"\n      }\n    },\n    {\n      \"column\": \"March\",\n      \"properties\": {\n        \"dtype\": \"number\",\n        \"std\": 153,\n        \"min\": 15,\n        \"max\": 417,\n        \"num_unique_values\": 6,\n        \"samples\": [\n          64,\n          94,\n          417\n        ],\n        \"semantic_type\": \"\",\n        \"description\": \"\"\n      }\n    },\n    {\n      \"column\": \"row_totals\",\n      \"properties\": {\n        \"dtype\": \"number\",\n        \"std\": 366,\n        \"min\": 38,\n        \"max\": 1000,\n        \"num_unique_values\": 6,\n        \"samples\": [\n          154,\n          251,\n          1000\n        ],\n        \"semantic_type\": \"\",\n        \"description\": \"\"\n      }\n    }\n  ]\n}"
            }
          },
          "metadata": {},
          "execution_count": 29
        }
      ]
    },
    {
      "cell_type": "markdown",
      "source": [
        "16. Implement an F-test using Python to compare the variances of two random samples.\n"
      ],
      "metadata": {
        "id": "NI_5vv-nm9Ew"
      }
    },
    {
      "cell_type": "code",
      "source": [
        "import numpy as np\n",
        "import scipy.stats as stats\n",
        "\n",
        "# Create the data for two groups\n",
        "group1 = np.random.rand(25)\n",
        "group2 = np.random.rand(20)\n",
        "\n",
        "# Calculate the sample variances\n",
        "variance1 = np.var(group1, ddof=1)\n",
        "variance2 = np.var(group2, ddof=1)\n",
        "\n",
        "# Calculate the F-statistic\n",
        "f_value = variance1 / variance2\n",
        "\n",
        "# Calculate the degrees of freedom\n",
        "df1 = len(group1) - 1\n",
        "df2 = len(group2) - 1\n",
        "\n",
        "# Calculate the p-value\n",
        "p_value = stats.f.cdf(f_value, df1, df2)\n",
        "\n",
        "# Print the results\n",
        "print('Degree of freedom 1:',df1)\n",
        "print('Degree of freedom 2:',df2)\n",
        "print(\"F-statistic:\", f_value)\n",
        "print(\"p-value:\", p_value)\n"
      ],
      "metadata": {
        "colab": {
          "base_uri": "https://localhost:8080/"
        },
        "id": "XLu_HcmPnAmM",
        "outputId": "60c3be16-6a62-43bc-dce9-e4a137be8cae"
      },
      "execution_count": 30,
      "outputs": [
        {
          "output_type": "stream",
          "name": "stdout",
          "text": [
            "Degree of freedom 1: 24\n",
            "Degree of freedom 2: 19\n",
            "F-statistic: 0.7398505720695314\n",
            "p-value: 0.2402765759553433\n"
          ]
        }
      ]
    },
    {
      "cell_type": "markdown",
      "source": [
        "17.  Write a Python program to perform an ANOVA test to compare means between multiple groups and\n",
        "interpret the results.\n"
      ],
      "metadata": {
        "id": "ykqIVB8NnBDY"
      }
    },
    {
      "cell_type": "code",
      "source": [
        "# Importing library\n",
        "from scipy.stats import f_oneway\n",
        "\n",
        "# Performance when each of the engine\n",
        "# oil is applied\n",
        "performance1 = [89, 89, 88, 78, 79]\n",
        "performance2 = [93, 92, 94, 89, 88]\n",
        "performance3 = [89, 88, 89, 93, 90]\n",
        "performance4 = [81, 78, 81, 92, 82]\n",
        "\n",
        "# Conduct the one-way ANOVA\n",
        "f_oneway(performance1, performance2, performance3, performance4)\n",
        "\n",
        "'''\n",
        "The F statistic and p-value turn out to be equal to 4.625 and 0.016336498 respectively.\n",
        "Since the p-value is less than 0.05 hence we would reject the null hypothesis. This implies\n",
        "that we have sufficient proof to say that there exists a difference in the performance among four different engine oils.\n",
        "'''"
      ],
      "metadata": {
        "colab": {
          "base_uri": "https://localhost:8080/"
        },
        "id": "_XVX3cPwnFtn",
        "outputId": "b66d6164-66dc-4b38-8e83-7df7d416eca4"
      },
      "execution_count": 31,
      "outputs": [
        {
          "output_type": "execute_result",
          "data": {
            "text/plain": [
              "F_onewayResult(statistic=4.625000000000002, pvalue=0.016336459839780215)"
            ]
          },
          "metadata": {},
          "execution_count": 31
        }
      ]
    },
    {
      "cell_type": "markdown",
      "source": [
        "18. Perform a one-way ANOVA test using Python to compare the means of different groups and plot the results.\n"
      ],
      "metadata": {
        "id": "OS2gMbLYnGF0"
      }
    },
    {
      "cell_type": "code",
      "source": [
        "import numpy as np\n",
        "import scipy.stats as stats\n",
        "import matplotlib.pyplot as plt\n",
        "import pandas as pd\n",
        "\n",
        "# Sample data\n",
        "group1 = [2, 4, 6, 8, 10]\n",
        "group2 = [1, 3, 5, 7, 9]\n",
        "group3 = [3, 5, 7, 9, 11]\n",
        "\n",
        "# Perform one-way ANOVA\n",
        "f_statistic, p_value = stats.f_oneway(group1, group2, group3)\n",
        "\n",
        "# Print the results\n",
        "print(f\"F-statistic: {f_statistic}\")\n",
        "print(f\"P-value: {p_value}\")\n",
        "\n",
        "# Plot the results\n",
        "data = {'Group': ['Group 1'] * len(group1) + ['Group 2'] * len(group2) + ['Group 3'] * len(group3),\n",
        "        'Values': group1 + group2 + group3}\n",
        "df = pd.DataFrame(data)\n",
        "\n",
        "# Create a boxplot\n",
        "plt.figure(figsize=(8, 6))\n",
        "plt.boxplot([group1, group2, group3], labels=['Group 1', 'Group 2', 'Group 3'])\n",
        "plt.title('Boxplot of Groups')\n",
        "plt.ylabel('Values')\n",
        "plt.show()"
      ],
      "metadata": {
        "colab": {
          "base_uri": "https://localhost:8080/",
          "height": 634
        },
        "id": "mk2lEeTknKVq",
        "outputId": "5d478ff9-35ea-4692-afd8-2d4ffce1b870"
      },
      "execution_count": 32,
      "outputs": [
        {
          "output_type": "stream",
          "name": "stdout",
          "text": [
            "F-statistic: 0.5\n",
            "P-value: 0.6186248513251718\n"
          ]
        },
        {
          "output_type": "stream",
          "name": "stderr",
          "text": [
            "<ipython-input-32-5fa0076720a8>:25: MatplotlibDeprecationWarning: The 'labels' parameter of boxplot() has been renamed 'tick_labels' since Matplotlib 3.9; support for the old name will be dropped in 3.11.\n",
            "  plt.boxplot([group1, group2, group3], labels=['Group 1', 'Group 2', 'Group 3'])\n"
          ]
        },
        {
          "output_type": "display_data",
          "data": {
            "text/plain": [
              "<Figure size 800x600 with 1 Axes>"
            ],
            "image/png": "[encoded data removed]"
          },
          "metadata": {}
        }
      ]
    },
    {
      "cell_type": "markdown",
      "source": [
        "19. Write a Python function to check the assumptions (normality, independence, and equal variance) for ANOVAD.\n"
      ],
      "metadata": {
        "id": "6aqhFEkUnKwz"
      }
    },
    {
      "cell_type": "code",
      "source": [
        "import numpy as np\n",
        "import scipy.stats as stats\n",
        "import matplotlib.pyplot as plt\n",
        "import pandas as pd\n",
        "\n",
        "# Sample data\n",
        "group1 = [2, 4, 6, 8, 10]\n",
        "group2 = [1, 3, 5, 7, 9]\n",
        "group3 = [3, 5, 7, 9, 11]\n",
        "\n",
        "# Perform one-way ANOVA\n",
        "f_statistic, p_value = stats.f_oneway(group1, group2, group3)\n",
        "\n",
        "# Print the results\n",
        "print(f\"F-statistic: {f_statistic}\")\n",
        "print(f\"P-value: {p_value}\")\n"
      ],
      "metadata": {
        "colab": {
          "base_uri": "https://localhost:8080/"
        },
        "id": "Y-AugRWKnPtD",
        "outputId": "af62ff7c-ee1c-4f95-f07d-20e34f235e25"
      },
      "execution_count": 33,
      "outputs": [
        {
          "output_type": "stream",
          "name": "stdout",
          "text": [
            "F-statistic: 0.5\n",
            "P-value: 0.6186248513251718\n"
          ]
        }
      ]
    },
    {
      "cell_type": "markdown",
      "source": [
        "20. Perform a two-way ANOVA test using Python to study the interaction between two factors and visualize the\n",
        "results.\n"
      ],
      "metadata": {
        "id": "JfW00DVVnQTa"
      }
    },
    {
      "cell_type": "code",
      "source": [
        "\n",
        "# Importing libraries\n",
        "import statsmodels.api as sm\n",
        "from statsmodels.formula.api import ols\n",
        "\n",
        "# Create a dataframe\n",
        "dataframe = pd.DataFrame({'Fertilizer': np.repeat(['daily', 'weekly'], 15),\n",
        "                          'Watering': np.repeat(['daily', 'weekly'], 15),\n",
        "                          'height': [14, 16, 15, 15, 16, 13, 12, 11,\n",
        "                                     14, 15, 16, 16, 17, 18, 14, 13,\n",
        "                                     14, 14, 14, 15, 16, 16, 17, 18,\n",
        "                                     14, 13, 14, 14, 14, 15]})\n",
        "\n",
        "\n",
        "model = ols('height ~ C(Fertilizer) + C(Watering) + C(Fertilizer):C(Watering)', data=dataframe).fit()\n",
        "result = sm.stats.anova_lm(model, type=2)\n",
        "\n",
        "# Print the result\n",
        "print(result)"
      ],
      "metadata": {
        "colab": {
          "base_uri": "https://localhost:8080/"
        },
        "id": "nuCV1kCxnUhp",
        "outputId": "0d52b2d1-cd2b-4d1b-cb87-6c65dce91fec"
      },
      "execution_count": 36,
      "outputs": [
        {
          "output_type": "stream",
          "name": "stdout",
          "text": [
            "                           df  sum_sq  mean_sq   F  PR(>F)\n",
            "C(Fertilizer)               1       0        0   0       1\n",
            "C(Watering)                 1       0        0   0       1\n",
            "C(Fertilizer):C(Watering)   1       0        0   0       1\n",
            "Residual                   28      77        3 NaN     NaN\n"
          ]
        }
      ]
    },
    {
      "cell_type": "markdown",
      "source": [
        "21. Write a Python program to visualize the F-distribution and discuss its use in hypothesis testing."
      ],
      "metadata": {
        "id": "wzD1lOIznT8L"
      }
    },
    {
      "cell_type": "code",
      "source": [
        "import numpy as np\n",
        "import scipy.stats as stats\n",
        "import matplotlib.pyplot as plt\n",
        "\n",
        "# Set the degrees of freedom\n",
        "df1 = 7\n",
        "df2 = 13\n",
        "\n",
        "# Generate random samples from chi-square distributions\n",
        "sample1 = np.random.chisquare(df1, size=1000)\n",
        "sample2 = np.random.chisquare(df2, size=1000)\n",
        "\n",
        "# Calculate the F-statistic\n",
        "f_value = (sample1 / df1) / (sample2 / df2)\n",
        "\n",
        "# Sort the f-statistic for better distribution plot\n",
        "f_value = np.sort(f_value)\n",
        "# Calculate the PDF of the F-distribution\n",
        "pdf = stats.f.pdf(f_value, df1, df2)\n",
        "\n",
        "# Calculate the CDF of the F-distribution\n",
        "cdf = stats.f.cdf(f_value, df1, df2)\n",
        "\n",
        "# Calculate the corresponding p-value\n",
        "p_value = 1 - cdf\n",
        "\n",
        "\n",
        "# Plot the PDF and CDF of the F-distribution\n",
        "plt.figure(figsize=(10, 4))\n",
        "plt.subplot(1, 2, 1)\n",
        "plt.plot(f_value, pdf)\n",
        "plt.title('F-distribution PDF')\n",
        "plt.xlabel('x')\n",
        "plt.grid(True)\n",
        "\n",
        "plt.ylabel('Probability Density')\n",
        "\n",
        "plt.subplot(1, 2, 2)\n",
        "plt.plot(f_value, cdf)\n",
        "plt.title('F-distribution CDF')\n",
        "plt.xlabel('x')\n",
        "plt.ylabel('Cumulative Probability')\n",
        "plt.grid(True)\n",
        "plt.tight_layout()\n",
        "plt.show()\n"
      ],
      "metadata": {
        "colab": {
          "base_uri": "https://localhost:8080/",
          "height": 407
        },
        "id": "i63X_X0InYdM",
        "outputId": "4438c5c3-f28d-4135-80fb-c8a4d7365119"
      },
      "execution_count": 37,
      "outputs": [
        {
          "output_type": "display_data",
          "data": {
            "text/plain": [
              "<Figure size 1000x400 with 2 Axes>"
            ],
            "image/png": "[encoded data removed]"
          },
          "metadata": {}
        }
      ]
    },
    {
      "cell_type": "markdown",
      "source": [
        "22. Perform a one-way ANOVA test in Python and visualize the results with boxplots to compare group means.\n"
      ],
      "metadata": {
        "id": "XMVDmuBAnY5j"
      }
    },
    {
      "cell_type": "code",
      "source": [
        "import numpy as np\n",
        "import scipy.stats as stats\n",
        "import matplotlib.pyplot as plt\n",
        "import pandas as pd\n",
        "\n",
        "# Sample data\n",
        "group1 = [2, 4, 6, 8, 10]\n",
        "group2 = [1, 3, 5, 7, 9]\n",
        "group3 = [3, 5, 7, 9, 11]\n",
        "\n",
        "# Perform one-way ANOVA\n",
        "f_statistic, p_value = stats.f_oneway(group1, group2, group3)\n",
        "\n",
        "# Print the results\n",
        "print(f\"F-statistic: {f_statistic}\")\n",
        "print(f\"P-value: {p_value}\")\n",
        "\n",
        "# Plot the results\n",
        "data = {'Group': ['Group 1'] * len(group1) + ['Group 2'] * len(group2) + ['Group 3'] * len(group3),\n",
        "        'Values': group1 + group2 + group3}\n",
        "df = pd.DataFrame(data)\n",
        "\n",
        "# Create a boxplot\n",
        "plt.figure(figsize=(8, 6))\n",
        "plt.boxplot([group1, group2, group3], labels=['Group 1', 'Group 2', 'Group 3'])\n",
        "plt.title('Boxplot of Groups')\n",
        "plt.ylabel('Values')\n",
        "plt.show()"
      ],
      "metadata": {
        "colab": {
          "base_uri": "https://localhost:8080/",
          "height": 634
        },
        "id": "A5uO_S-kndIx",
        "outputId": "867911dd-b8f1-4968-f104-9539183ce6ed"
      },
      "execution_count": 38,
      "outputs": [
        {
          "output_type": "stream",
          "name": "stdout",
          "text": [
            "F-statistic: 0.5\n",
            "P-value: 0.6186248513251718\n"
          ]
        },
        {
          "output_type": "stream",
          "name": "stderr",
          "text": [
            "<ipython-input-38-5fa0076720a8>:25: MatplotlibDeprecationWarning: The 'labels' parameter of boxplot() has been renamed 'tick_labels' since Matplotlib 3.9; support for the old name will be dropped in 3.11.\n",
            "  plt.boxplot([group1, group2, group3], labels=['Group 1', 'Group 2', 'Group 3'])\n"
          ]
        },
        {
          "output_type": "display_data",
          "data": {
            "text/plain": [
              "<Figure size 800x600 with 1 Axes>"
            ],
            "image/png": "[encoded data removed]"
          },
          "metadata": {}
        }
      ]
    },
    {
      "cell_type": "markdown",
      "source": [
        "23. Simulate random data from a normal distribution, then perform hypothesis testing to evaluate the means.\n"
      ],
      "metadata": {
        "id": "r-1cn9OZndpM"
      }
    },
    {
      "cell_type": "code",
      "source": [
        "import numpy as np\n",
        "from scipy.stats import ttest_ind\n",
        "\n",
        "# Simulate data from two normal distributions\n",
        "sample1 = np.random.normal(loc=50, scale=10, size=50)\n",
        "sample2 = np.random.normal(loc=55, scale=10, size=50)\n",
        "\n",
        "# Perform a t-test\n",
        "t_statistic, p_value = ttest_ind(sample1, sample2)\n",
        "\n",
        "# Set significance level\n",
        "alpha = 0.05\n",
        "\n",
        "# Interpret the results\n",
        "if p_value < alpha:\n",
        "    print(\"Reject the null hypothesis.  The means are significantly different.\")\n",
        "else:\n",
        "    print(\"Fail to reject the null hypothesis.  There is not enough evidence to conclude that the means are different.\")"
      ],
      "metadata": {
        "colab": {
          "base_uri": "https://localhost:8080/"
        },
        "id": "80lYMX6Wng10",
        "outputId": "787bddf7-d9a3-47c0-b167-93e8658a0d0f"
      },
      "execution_count": 39,
      "outputs": [
        {
          "output_type": "stream",
          "name": "stdout",
          "text": [
            "Reject the null hypothesis.  The means are significantly different.\n"
          ]
        }
      ]
    },
    {
      "cell_type": "markdown",
      "source": [
        "24. Perform a hypothesis test for population variance using a Chi-square distribution and interpret the results.\n"
      ],
      "metadata": {
        "id": "uAkz_kownhQ9"
      }
    },
    {
      "cell_type": "code",
      "source": [
        "import numpy as np\n",
        "from scipy.stats import chi2\n",
        "\n",
        "# Sample data (replace with your own data)\n",
        "data = np.array([1, 2, 3, 4, 5, 6, 7, 8, 9, 10])\n",
        "\n",
        "# Population variance to test against (H0: population variance = variance_0)\n",
        "variance_0 = 10  # Example: Assume the population variance is 10\n",
        "\n",
        "# Significance level (alpha)\n",
        "alpha = 0.05\n",
        "\n",
        "# Sample size (n)\n",
        "n = len(data)\n",
        "\n",
        "# Degrees of freedom\n",
        "df = n - 1\n",
        "# Calculate sample variance\n",
        "sample_variance = np.var(data, ddof=1)  # ddof=1 for sample variance\n",
        "# Calculate the Chi-square statistic\n",
        "chi2_statistic = ((n - 1) * sample_variance) / variance_0\n",
        "\n",
        "\n",
        "\n",
        "\n",
        "\n",
        "# Determine the critical value or p-value based on the test type (one-tailed or two-tailed)\n",
        "\n",
        "# Two-tailed test (H0: population variance = variance_0, H1: population variance != variance_0)\n",
        "# Find the p-value\n",
        "p_value = 2 * (1 - chi2.cdf(chi2_statistic, df))\n",
        "\n",
        "# OR\n",
        "\n",
        "# One-tailed test (H0: population variance = variance_0, H1: population variance > variance_0)\n",
        "# p_value = 1 - chi2.cdf(chi2_statistic, df)\n",
        "\n",
        "# OR\n",
        "\n",
        "# One-tailed test (H0: population variance = variance_0, H1: population variance < variance_0)\n",
        "# p_value = chi2.cdf(chi2_statistic, df)\n",
        "\n",
        "# Compare the p-value to the significance level\n",
        "if p_value < alpha:\n",
        "    print(\"Reject the null hypothesis. There is sufficient evidence to suggest that the population variance is different from\", variance_0)\n",
        "else:\n",
        "    print(\"Fail to reject the null hypothesis. There is not sufficient evidence to suggest that the population variance is different from\", variance_0)"
      ],
      "metadata": {
        "colab": {
          "base_uri": "https://localhost:8080/"
        },
        "id": "LdFrEi7Cnkez",
        "outputId": "e2042f8a-da67-4132-e55c-ef26003f8a92"
      },
      "execution_count": 41,
      "outputs": [
        {
          "output_type": "stream",
          "name": "stdout",
          "text": [
            "Fail to reject the null hypothesis. There is not sufficient evidence to suggest that the population variance is different from 10\n"
          ]
        }
      ]
    },
    {
      "cell_type": "markdown",
      "source": [
        "25.  Write a Python script to perform a Z-test for comparing proportions between two datasets or groups.\n"
      ],
      "metadata": {
        "id": "HQKJ0hoenk4o"
      }
    },
    {
      "cell_type": "code",
      "source": [
        "import numpy as np\n",
        "import pandas as pd\n",
        "import scipy.stats.distributions as dist\n",
        "data = pd.read_csv('/Titanic.csv')\n",
        "data['Survived'] = data['Survived'].map({1:'Survived',0:'Not Survived'}) #Encode the values\n",
        "data = data.dropna() #Drop the nan values\n",
        "contingency_table = pd.crosstab(data.Survived,data.Sex) #Contingency Table\n",
        "contingency_table"
      ],
      "metadata": {
        "colab": {
          "base_uri": "https://localhost:8080/",
          "height": 143
        },
        "id": "vEOC9wFZnn_U",
        "outputId": "eb537b21-3a3a-4a7f-9403-65435ca9a3c4"
      },
      "execution_count": 43,
      "outputs": [
        {
          "output_type": "execute_result",
          "data": {
            "text/plain": [
              "Sex           female  male\n",
              "Survived                  \n",
              "Not Survived       6    54\n",
              "Survived          82    41"
            ],
            "text/html": [
              "\n",
              "  <div id=\"df-0357ec00-541e-4f7e-9d2d-6c991f66d40d\" class=\"colab-df-container\">\n",
              "    <div>\n",
              "<style scoped>\n",
              "    .dataframe tbody tr th:only-of-type {\n",
              "        vertical-align: middle;\n",
              "    }\n",
              "\n",
              "    .dataframe tbody tr th {\n",
              "        vertical-align: top;\n",
              "    }\n",
              "\n",
              "    .dataframe thead th {\n",
              "        text-align: right;\n",
              "    }\n",
              "</style>\n",
              "<table border=\"1\" class=\"dataframe\">\n",
              "  <thead>\n",
              "    <tr style=\"text-align: right;\">\n",
              "      <th>Sex</th>\n",
              "      <th>female</th>\n",
              "      <th>male</th>\n",
              "    </tr>\n",
              "    <tr>\n",
              "      <th>Survived</th>\n",
              "      <th></th>\n",
              "      <th></th>\n",
              "    </tr>\n",
              "  </thead>\n",
              "  <tbody>\n",
              "    <tr>\n",
              "      <th>Not Survived</th>\n",
              "      <td>6</td>\n",
              "      <td>54</td>\n",
              "    </tr>\n",
              "    <tr>\n",
              "      <th>Survived</th>\n",
              "      <td>82</td>\n",
              "      <td>41</td>\n",
              "    </tr>\n",
              "  </tbody>\n",
              "</table>\n",
              "</div>\n",
              "    <div class=\"colab-df-buttons\">\n",
              "\n",
              "  <div class=\"colab-df-container\">\n",
              "    <button class=\"colab-df-convert\" onclick=\"convertToInteractive('df-0357ec00-541e-4f7e-9d2d-6c991f66d40d')\"\n",
              "            title=\"Convert this dataframe to an interactive table.\"\n",
              "            style=\"display:none;\">\n",
              "\n",
              "  <svg xmlns=\"http://www.w3.org/2000/svg\" height=\"24px\" viewBox=\"0 -960 960 960\">\n",
              "    <path d=\"M120-120v-720h720v720H120Zm60-500h600v-160H180v160Zm220 220h160v-160H400v160Zm0 220h160v-160H400v160ZM180-400h160v-160H180v160Zm440 0h160v-160H620v160ZM180-180h160v-160H180v160Zm440 0h160v-160H620v160Z\"/>\n",
              "  </svg>\n",
              "    </button>\n",
              "\n",
              "  <style>\n",
              "    .colab-df-container {\n",
              "      display:flex;\n",
              "      gap: 12px;\n",
              "    }\n",
              "\n",
              "    .colab-df-convert {\n",
              "      background-color: #E8F0FE;\n",
              "      border: none;\n",
              "      border-radius: 50%;\n",
              "      cursor: pointer;\n",
              "      display: none;\n",
              "      fill: #1967D2;\n",
              "      height: 32px;\n",
              "      padding: 0 0 0 0;\n",
              "      width: 32px;\n",
              "    }\n",
              "\n",
              "    .colab-df-convert:hover {\n",
              "      background-color: #E2EBFA;\n",
              "      box-shadow: 0px 1px 2px rgba(60, 64, 67, 0.3), 0px 1px 3px 1px rgba(60, 64, 67, 0.15);\n",
              "      fill: #174EA6;\n",
              "    }\n",
              "\n",
              "    .colab-df-buttons div {\n",
              "      margin-bottom: 4px;\n",
              "    }\n",
              "\n",
              "    [theme=dark] .colab-df-convert {\n",
              "      background-color: #3B4455;\n",
              "      fill: #D2E3FC;\n",
              "    }\n",
              "\n",
              "    [theme=dark] .colab-df-convert:hover {\n",
              "      background-color: #434B5C;\n",
              "      box-shadow: 0px 1px 3px 1px rgba(0, 0, 0, 0.15);\n",
              "      filter: drop-shadow(0px 1px 2px rgba(0, 0, 0, 0.3));\n",
              "      fill: #FFFFFF;\n",
              "    }\n",
              "  </style>\n",
              "\n",
              "    <script>\n",
              "      const buttonEl =\n",
              "        document.querySelector('#df-0357ec00-541e-4f7e-9d2d-6c991f66d40d button.colab-df-convert');\n",
              "      buttonEl.style.display =\n",
              "        google.colab.kernel.accessAllowed ? 'block' : 'none';\n",
              "\n",
              "      async function convertToInteractive(key) {\n",
              "        const element = document.querySelector('#df-0357ec00-541e-4f7e-9d2d-6c991f66d40d');\n",
              "        const dataTable =\n",
              "          await google.colab.kernel.invokeFunction('convertToInteractive',\n",
              "                                                    [key], {});\n",
              "        if (!dataTable) return;\n",
              "\n",
              "        const docLinkHtml = 'Like what you see? Visit the ' +\n",
              "          '<a target=\"_blank\" href=https://colab.research.google.com/notebooks/data_table.ipynb>data table notebook</a>'\n",
              "          + ' to learn more about interactive tables.';\n",
              "        element.innerHTML = '';\n",
              "        dataTable['output_type'] = 'display_data';\n",
              "        await google.colab.output.renderOutput(dataTable, element);\n",
              "        const docLink = document.createElement('div');\n",
              "        docLink.innerHTML = docLinkHtml;\n",
              "        element.appendChild(docLink);\n",
              "      }\n",
              "    </script>\n",
              "  </div>\n",
              "\n",
              "\n",
              "<div id=\"df-ae2caf48-8388-4dea-862d-5f522564d98c\">\n",
              "  <button class=\"colab-df-quickchart\" onclick=\"quickchart('df-ae2caf48-8388-4dea-862d-5f522564d98c')\"\n",
              "            title=\"Suggest charts\"\n",
              "            style=\"display:none;\">\n",
              "\n",
              "<svg xmlns=\"http://www.w3.org/2000/svg\" height=\"24px\"viewBox=\"0 0 24 24\"\n",
              "     width=\"24px\">\n",
              "    <g>\n",
              "        <path d=\"M19 3H5c-1.1 0-2 .9-2 2v14c0 1.1.9 2 2 2h14c1.1 0 2-.9 2-2V5c0-1.1-.9-2-2-2zM9 17H7v-7h2v7zm4 0h-2V7h2v10zm4 0h-2v-4h2v4z\"/>\n",
              "    </g>\n",
              "</svg>\n",
              "  </button>\n",
              "\n",
              "<style>\n",
              "  .colab-df-quickchart {\n",
              "      --bg-color: #E8F0FE;\n",
              "      --fill-color: #1967D2;\n",
              "      --hover-bg-color: #E2EBFA;\n",
              "      --hover-fill-color: #174EA6;\n",
              "      --disabled-fill-color: #AAA;\n",
              "      --disabled-bg-color: #DDD;\n",
              "  }\n",
              "\n",
              "  [theme=dark] .colab-df-quickchart {\n",
              "      --bg-color: #3B4455;\n",
              "      --fill-color: #D2E3FC;\n",
              "      --hover-bg-color: #434B5C;\n",
              "      --hover-fill-color: #FFFFFF;\n",
              "      --disabled-bg-color: #3B4455;\n",
              "      --disabled-fill-color: #666;\n",
              "  }\n",
              "\n",
              "  .colab-df-quickchart {\n",
              "    background-color: var(--bg-color);\n",
              "    border: none;\n",
              "    border-radius: 50%;\n",
              "    cursor: pointer;\n",
              "    display: none;\n",
              "    fill: var(--fill-color);\n",
              "    height: 32px;\n",
              "    padding: 0;\n",
              "    width: 32px;\n",
              "  }\n",
              "\n",
              "  .colab-df-quickchart:hover {\n",
              "    background-color: var(--hover-bg-color);\n",
              "    box-shadow: 0 1px 2px rgba(60, 64, 67, 0.3), 0 1px 3px 1px rgba(60, 64, 67, 0.15);\n",
              "    fill: var(--button-hover-fill-color);\n",
              "  }\n",
              "\n",
              "  .colab-df-quickchart-complete:disabled,\n",
              "  .colab-df-quickchart-complete:disabled:hover {\n",
              "    background-color: var(--disabled-bg-color);\n",
              "    fill: var(--disabled-fill-color);\n",
              "    box-shadow: none;\n",
              "  }\n",
              "\n",
              "  .colab-df-spinner {\n",
              "    border: 2px solid var(--fill-color);\n",
              "    border-color: transparent;\n",
              "    border-bottom-color: var(--fill-color);\n",
              "    animation:\n",
              "      spin 1s steps(1) infinite;\n",
              "  }\n",
              "\n",
              "  @keyframes spin {\n",
              "    0% {\n",
              "      border-color: transparent;\n",
              "      border-bottom-color: var(--fill-color);\n",
              "      border-left-color: var(--fill-color);\n",
              "    }\n",
              "    20% {\n",
              "      border-color: transparent;\n",
              "      border-left-color: var(--fill-color);\n",
              "      border-top-color: var(--fill-color);\n",
              "    }\n",
              "    30% {\n",
              "      border-color: transparent;\n",
              "      border-left-color: var(--fill-color);\n",
              "      border-top-color: var(--fill-color);\n",
              "      border-right-color: var(--fill-color);\n",
              "    }\n",
              "    40% {\n",
              "      border-color: transparent;\n",
              "      border-right-color: var(--fill-color);\n",
              "      border-top-color: var(--fill-color);\n",
              "    }\n",
              "    60% {\n",
              "      border-color: transparent;\n",
              "      border-right-color: var(--fill-color);\n",
              "    }\n",
              "    80% {\n",
              "      border-color: transparent;\n",
              "      border-right-color: var(--fill-color);\n",
              "      border-bottom-color: var(--fill-color);\n",
              "    }\n",
              "    90% {\n",
              "      border-color: transparent;\n",
              "      border-bottom-color: var(--fill-color);\n",
              "    }\n",
              "  }\n",
              "</style>\n",
              "\n",
              "  <script>\n",
              "    async function quickchart(key) {\n",
              "      const quickchartButtonEl =\n",
              "        document.querySelector('#' + key + ' button');\n",
              "      quickchartButtonEl.disabled = true;  // To prevent multiple clicks.\n",
              "      quickchartButtonEl.classList.add('colab-df-spinner');\n",
              "      try {\n",
              "        const charts = await google.colab.kernel.invokeFunction(\n",
              "            'suggestCharts', [key], {});\n",
              "      } catch (error) {\n",
              "        console.error('Error during call to suggestCharts:', error);\n",
              "      }\n",
              "      quickchartButtonEl.classList.remove('colab-df-spinner');\n",
              "      quickchartButtonEl.classList.add('colab-df-quickchart-complete');\n",
              "    }\n",
              "    (() => {\n",
              "      let quickchartButtonEl =\n",
              "        document.querySelector('#df-ae2caf48-8388-4dea-862d-5f522564d98c button');\n",
              "      quickchartButtonEl.style.display =\n",
              "        google.colab.kernel.accessAllowed ? 'block' : 'none';\n",
              "    })();\n",
              "  </script>\n",
              "</div>\n",
              "\n",
              "  <div id=\"id_a41c4bd4-d92a-4ad1-90a9-39c4988b0839\">\n",
              "    <style>\n",
              "      .colab-df-generate {\n",
              "        background-color: #E8F0FE;\n",
              "        border: none;\n",
              "        border-radius: 50%;\n",
              "        cursor: pointer;\n",
              "        display: none;\n",
              "        fill: #1967D2;\n",
              "        height: 32px;\n",
              "        padding: 0 0 0 0;\n",
              "        width: 32px;\n",
              "      }\n",
              "\n",
              "      .colab-df-generate:hover {\n",
              "        background-color: #E2EBFA;\n",
              "        box-shadow: 0px 1px 2px rgba(60, 64, 67, 0.3), 0px 1px 3px 1px rgba(60, 64, 67, 0.15);\n",
              "        fill: #174EA6;\n",
              "      }\n",
              "\n",
              "      [theme=dark] .colab-df-generate {\n",
              "        background-color: #3B4455;\n",
              "        fill: #D2E3FC;\n",
              "      }\n",
              "\n",
              "      [theme=dark] .colab-df-generate:hover {\n",
              "        background-color: #434B5C;\n",
              "        box-shadow: 0px 1px 3px 1px rgba(0, 0, 0, 0.15);\n",
              "        filter: drop-shadow(0px 1px 2px rgba(0, 0, 0, 0.3));\n",
              "        fill: #FFFFFF;\n",
              "      }\n",
              "    </style>\n",
              "    <button class=\"colab-df-generate\" onclick=\"generateWithVariable('contingency_table')\"\n",
              "            title=\"Generate code using this dataframe.\"\n",
              "            style=\"display:none;\">\n",
              "\n",
              "  <svg xmlns=\"http://www.w3.org/2000/svg\" height=\"24px\"viewBox=\"0 0 24 24\"\n",
              "       width=\"24px\">\n",
              "    <path d=\"M7,19H8.4L18.45,9,17,7.55,7,17.6ZM5,21V16.75L18.45,3.32a2,2,0,0,1,2.83,0l1.4,1.43a1.91,1.91,0,0,1,.58,1.4,1.91,1.91,0,0,1-.58,1.4L9.25,21ZM18.45,9,17,7.55Zm-12,3A5.31,5.31,0,0,0,4.9,8.1,5.31,5.31,0,0,0,1,6.5,5.31,5.31,0,0,0,4.9,4.9,5.31,5.31,0,0,0,6.5,1,5.31,5.31,0,0,0,8.1,4.9,5.31,5.31,0,0,0,12,6.5,5.46,5.46,0,0,0,6.5,12Z\"/>\n",
              "  </svg>\n",
              "    </button>\n",
              "    <script>\n",
              "      (() => {\n",
              "      const buttonEl =\n",
              "        document.querySelector('#id_a41c4bd4-d92a-4ad1-90a9-39c4988b0839 button.colab-df-generate');\n",
              "      buttonEl.style.display =\n",
              "        google.colab.kernel.accessAllowed ? 'block' : 'none';\n",
              "\n",
              "      buttonEl.onclick = () => {\n",
              "        google.colab.notebook.generateWithVariable('contingency_table');\n",
              "      }\n",
              "      })();\n",
              "    </script>\n",
              "  </div>\n",
              "\n",
              "    </div>\n",
              "  </div>\n"
            ],
            "application/vnd.google.colaboratory.intrinsic+json": {
              "type": "dataframe",
              "variable_name": "contingency_table",
              "summary": "{\n  \"name\": \"contingency_table\",\n  \"rows\": 2,\n  \"fields\": [\n    {\n      \"column\": \"Survived\",\n      \"properties\": {\n        \"dtype\": \"string\",\n        \"num_unique_values\": 2,\n        \"samples\": [\n          \"Survived\",\n          \"Not Survived\"\n        ],\n        \"semantic_type\": \"\",\n        \"description\": \"\"\n      }\n    },\n    {\n      \"column\": \"female\",\n      \"properties\": {\n        \"dtype\": \"number\",\n        \"std\": 53,\n        \"min\": 6,\n        \"max\": 82,\n        \"num_unique_values\": 2,\n        \"samples\": [\n          82,\n          6\n        ],\n        \"semantic_type\": \"\",\n        \"description\": \"\"\n      }\n    },\n    {\n      \"column\": \"male\",\n      \"properties\": {\n        \"dtype\": \"number\",\n        \"std\": 9,\n        \"min\": 41,\n        \"max\": 54,\n        \"num_unique_values\": 2,\n        \"samples\": [\n          41,\n          54\n        ],\n        \"semantic_type\": \"\",\n        \"description\": \"\"\n      }\n    }\n  ]\n}"
            }
          },
          "metadata": {},
          "execution_count": 43
        }
      ]
    },
    {
      "cell_type": "markdown",
      "source": [
        "26. Implement an F-test for comparing the variances of two datasets, then interpret and visualize the results.\n"
      ],
      "metadata": {
        "id": "dbcIxzyHnoqS"
      }
    },
    {
      "cell_type": "code",
      "source": [
        "import numpy as np\n",
        "import scipy.stats as stats\n",
        "import matplotlib.pyplot as plt\n",
        "\n",
        "# Set the degrees of freedom\n",
        "df1 = 7\n",
        "df2 = 13\n",
        "\n",
        "# Generate random samples from chi-square distributions\n",
        "sample1 = np.random.chisquare(df1, size=1000)\n",
        "sample2 = np.random.chisquare(df2, size=1000)\n",
        "\n",
        "# Calculate the F-statistic\n",
        "f_value = (sample1 / df1) / (sample2 / df2)\n",
        "\n",
        "# Sort the f-statistic for better distribution plot\n",
        "f_value = np.sort(f_value)\n",
        "# Calculate the PDF of the F-distribution\n",
        "pdf = stats.f.pdf(f_value, df1, df2)\n",
        "\n",
        "# Calculate the CDF of the F-distribution\n",
        "cdf = stats.f.cdf(f_value, df1, df2)\n",
        "\n",
        "# Calculate the corresponding p-value\n",
        "p_value = 1 - cdf\n",
        "\n",
        "\n",
        "# Plot the PDF and CDF of the F-distribution\n",
        "plt.figure(figsize=(10, 4))\n",
        "plt.subplot(1, 2, 1)\n",
        "plt.plot(f_value, pdf)\n",
        "plt.title('F-distribution PDF')\n",
        "plt.xlabel('x')\n",
        "plt.grid(True)\n",
        "\n",
        "plt.ylabel('Probability Density')\n",
        "\n",
        "plt.subplot(1, 2, 2)\n",
        "plt.plot(f_value, cdf)\n",
        "plt.title('F-distribution CDF')\n",
        "plt.xlabel('x')\n",
        "plt.ylabel('Cumulative Probability')\n",
        "plt.grid(True)\n",
        "plt.tight_layout()\n",
        "plt.show()\n"
      ],
      "metadata": {
        "colab": {
          "base_uri": "https://localhost:8080/",
          "height": 407
        },
        "id": "AMbH-0shntB-",
        "outputId": "547a443f-c8bf-4c78-af6f-18e7c6b0aa6b"
      },
      "execution_count": 44,
      "outputs": [
        {
          "output_type": "display_data",
          "data": {
            "text/plain": [
              "<Figure size 1000x400 with 2 Axes>"
            ],
            "image/png": "[encoded data removed]"
          },
          "metadata": {}
        }
      ]
    },
    {
      "cell_type": "markdown",
      "source": [
        "27.Perform a Chi-square test for goodness of fit with simulated data and analyze the results."
      ],
      "metadata": {
        "id": "VFoCBUUpntig"
      }
    },
    {
      "cell_type": "code",
      "source": [
        "    import random\n",
        "    import numpy as np\n",
        "    from scipy.stats import chisquare\n",
        "\n",
        "    # Simulate 100 die rolls\n",
        "    rolls = [random.randint(1, 6) for _ in range(100)]\n",
        "\n",
        "    # Observed frequencies\n",
        "    observed_frequencies = np.array([rolls.count(i) for i in range(1, 7)])\n",
        "    print(\"Observed Frequencies:\", observed_frequencies)\n",
        "    expected_frequencies = np.array([100/6] * 6)\n",
        "    print(\"Expected Frequencies:\", expected_frequencies)\n",
        "    chi2_statistic = chisquare(observed_frequencies, f_exp=expected_frequencies)[0]\n",
        "    print(\"Chi-Square Statistic:\", chi2_statistic)\n",
        "    p_value = chisquare(observed_frequencies, f_exp=expected_frequencies)[1]\n",
        "    print(\"p-value:\", p_value)"
      ],
      "metadata": {
        "colab": {
          "base_uri": "https://localhost:8080/"
        },
        "id": "_hS6oM3dnvkd",
        "outputId": "ffce12ce-984a-4fbe-ef57-0e19ee53e462"
      },
      "execution_count": 46,
      "outputs": [
        {
          "output_type": "stream",
          "name": "stdout",
          "text": [
            "Observed Frequencies: [13 12 14 21 22 18]\n",
            "Expected Frequencies: [16.66666667 16.66666667 16.66666667 16.66666667 16.66666667 16.66666667]\n",
            "Chi-Square Statistic: 5.48\n",
            "p-value: 0.36014393801430045\n"
          ]
        }
      ]
    }
  ]
}